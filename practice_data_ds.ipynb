{
  "cells": [
    {
      "cell_type": "markdown",
      "metadata": {
        "id": "nqGCG85Wmo6E"
      },
      "source": [
        "# **Devoir: Manipulation des Données**\n",
        "\n",
        "Temps estimé nécessaire : **30** minutes\n",
        "\n",
        "Dans ce laboratoire, vous utiliserez les compétences acquises dans le module et aborderez les problèmes de gestion des données manquantes, corrigerez le type de données de l'attribut du dataframe et exécuterez les processus de standardisation et de normalisation des données sur des attributs spécifiques du jeu de données.\n"
      ]
    },
    {
      "cell_type": "markdown",
      "metadata": {
        "id": "MxeJfxXumo6J"
      },
      "source": [
        "# Objectifs\n",
        "\n",
        "Après avoir terminé ce laboratoire, vous serez capable de :\n",
        "\n",
        " - Gérer les données manquantes de différentes manières\n",
        " - Corriger le type de données de différentes valeurs selon les besoins\n",
        " - Standardiser et normaliser les attributs de données appropriés\n",
        " - Visualiser les données sous forme de graphique à barres groupées en utilisant le binning\n",
        " - Convertir une donnée catégorielle en variables indicatrices numériques\n"
      ]
    },
    {
      "cell_type": "markdown",
      "metadata": {
        "id": "IUTAL-rGmo6J"
      },
      "source": [
        "# Setup\n"
      ]
    },
    {
      "cell_type": "markdown",
      "metadata": {
        "id": "PPwssGfHmo6K"
      },
      "source": [
        "### Importation des Bibliothèques Nécessaires\n",
        "\n",
        "_Nous vous recommandons d'importer toutes les bibliothèques nécessaires en un seul endroit (ici) :_\n"
      ]
    },
    {
      "cell_type": "code",
      "execution_count": 7,
      "metadata": {
        "id": "yJVbaJPwmo6K"
      },
      "outputs": [],
      "source": [
        "import numpy as np\n",
        "import pandas as pd\n",
        "import matplotlib.pyplot as plt\n",
        "%matplotlib inline"
      ]
    },
    {
      "cell_type": "markdown",
      "metadata": {
        "id": "9HN-E_8Dmo6L"
      },
      "source": [
        "Téléchargez le jeu de données mis à jour en exécutant la cellule ci-dessous.\n",
        "\n",
        "Les fonctions ci-dessous téléchargeront le jeu de données dans votre navigateur :\n"
      ]
    },
    {
      "cell_type": "code",
      "execution_count": 3,
      "metadata": {
        "id": "OClgFN9Ymo6M"
      },
      "outputs": [],
      "source": [
        "#from pyodide.http import pyfetch\n",
        "import requests\n",
        "\n",
        "async def download(url, filename):\n",
        "    #response = await pyfetch(url)\n",
        "    response = requests.get(url)\n",
        "    if response.status_code == 200:\n",
        "        with open(filename, \"wb\") as f:\n",
        "            f.write(response.content)"
      ]
    },
    {
      "cell_type": "code",
      "execution_count": 4,
      "metadata": {
        "id": "83eRFffGmo6M"
      },
      "outputs": [],
      "source": [
        "file_path= \"https://cf-courses-data.s3.us.cloud-object-storage.appdomain.cloud/IBMDeveloperSkillsNetwork-DA0101EN-Coursera/laptop_pricing_dataset_mod1.csv\""
      ]
    },
    {
      "cell_type": "markdown",
      "metadata": {
        "id": "CY8uYDEXmo6N"
      },
      "source": [
        "Pour obtenir le jeu de données, utilisez la fonction download() telle que définie ci-dessus :\n"
      ]
    },
    {
      "cell_type": "code",
      "execution_count": 5,
      "metadata": {
        "id": "NUl3ThSjmo6N"
      },
      "outputs": [],
      "source": [
        "await download(file_path, \"laptops.csv\")\n",
        "file_name=\"laptops.csv\""
      ]
    },
    {
      "cell_type": "markdown",
      "metadata": {
        "id": "GVoaaaYOmo6O"
      },
      "source": [
        "Tout d'abord, nous chargeons les données dans un `pandas.DataFrame` :\n"
      ]
    },
    {
      "cell_type": "code",
      "execution_count": 12,
      "metadata": {
        "id": "MmkHfV8emo6O"
      },
      "outputs": [],
      "source": [
        "df = pd.read_csv(file_name, header=0)"
      ]
    },
    {
      "cell_type": "markdown",
      "metadata": {
        "id": "Wy47ytWjmo6O"
      },
      "source": [
        "Vérifiez le chargement en affichant le résumé du dataframe en utilisant `dataframe.info()`\n"
      ]
    },
    {
      "cell_type": "code",
      "execution_count": 13,
      "metadata": {
        "id": "xWCt3qvQmo6O"
      },
      "outputs": [
        {
          "name": "stdout",
          "output_type": "stream",
          "text": [
            "<class 'pandas.core.frame.DataFrame'>\n",
            "RangeIndex: 238 entries, 0 to 237\n",
            "Data columns (total 13 columns):\n",
            " #   Column          Non-Null Count  Dtype  \n",
            "---  ------          --------------  -----  \n",
            " 0   Unnamed: 0      238 non-null    int64  \n",
            " 1   Manufacturer    238 non-null    object \n",
            " 2   Category        238 non-null    int64  \n",
            " 3   Screen          238 non-null    object \n",
            " 4   GPU             238 non-null    int64  \n",
            " 5   OS              238 non-null    int64  \n",
            " 6   CPU_core        238 non-null    int64  \n",
            " 7   Screen_Size_cm  234 non-null    float64\n",
            " 8   CPU_frequency   238 non-null    float64\n",
            " 9   RAM_GB          238 non-null    int64  \n",
            " 10  Storage_GB_SSD  238 non-null    int64  \n",
            " 11  Weight_kg       233 non-null    float64\n",
            " 12  Price           238 non-null    int64  \n",
            "dtypes: float64(3), int64(8), object(2)\n",
            "memory usage: 24.3+ KB\n",
            "None\n"
          ]
        }
      ],
      "source": [
        "print(df.info())"
      ]
    },
    {
      "cell_type": "markdown",
      "metadata": {
        "id": "loSp5-4vmo6P"
      },
      "source": [
        "Affichez les 5 premières valeurs du dataframe mis à jour en utilisant `dataframe.head()`\n"
      ]
    },
    {
      "cell_type": "code",
      "execution_count": 10,
      "metadata": {
        "id": "-SDjx4N7mo6P"
      },
      "outputs": [
        {
          "data": {
            "text/html": [
              "<div>\n",
              "<style scoped>\n",
              "    .dataframe tbody tr th:only-of-type {\n",
              "        vertical-align: middle;\n",
              "    }\n",
              "\n",
              "    .dataframe tbody tr th {\n",
              "        vertical-align: top;\n",
              "    }\n",
              "\n",
              "    .dataframe thead th {\n",
              "        text-align: right;\n",
              "    }\n",
              "</style>\n",
              "<table border=\"1\" class=\"dataframe\">\n",
              "  <thead>\n",
              "    <tr style=\"text-align: right;\">\n",
              "      <th></th>\n",
              "      <th>Unnamed: 0</th>\n",
              "      <th>Manufacturer</th>\n",
              "      <th>Category</th>\n",
              "      <th>Screen</th>\n",
              "      <th>GPU</th>\n",
              "      <th>OS</th>\n",
              "      <th>CPU_core</th>\n",
              "      <th>Screen_Size_cm</th>\n",
              "      <th>CPU_frequency</th>\n",
              "      <th>RAM_GB</th>\n",
              "      <th>Storage_GB_SSD</th>\n",
              "      <th>Weight_kg</th>\n",
              "      <th>Price</th>\n",
              "    </tr>\n",
              "  </thead>\n",
              "  <tbody>\n",
              "    <tr>\n",
              "      <th>0</th>\n",
              "      <td>0</td>\n",
              "      <td>Acer</td>\n",
              "      <td>4</td>\n",
              "      <td>IPS Panel</td>\n",
              "      <td>2</td>\n",
              "      <td>1</td>\n",
              "      <td>5</td>\n",
              "      <td>35.560</td>\n",
              "      <td>1.6</td>\n",
              "      <td>8</td>\n",
              "      <td>256</td>\n",
              "      <td>1.60</td>\n",
              "      <td>978</td>\n",
              "    </tr>\n",
              "    <tr>\n",
              "      <th>1</th>\n",
              "      <td>1</td>\n",
              "      <td>Dell</td>\n",
              "      <td>3</td>\n",
              "      <td>Full HD</td>\n",
              "      <td>1</td>\n",
              "      <td>1</td>\n",
              "      <td>3</td>\n",
              "      <td>39.624</td>\n",
              "      <td>2.0</td>\n",
              "      <td>4</td>\n",
              "      <td>256</td>\n",
              "      <td>2.20</td>\n",
              "      <td>634</td>\n",
              "    </tr>\n",
              "    <tr>\n",
              "      <th>2</th>\n",
              "      <td>2</td>\n",
              "      <td>Dell</td>\n",
              "      <td>3</td>\n",
              "      <td>Full HD</td>\n",
              "      <td>1</td>\n",
              "      <td>1</td>\n",
              "      <td>7</td>\n",
              "      <td>39.624</td>\n",
              "      <td>2.7</td>\n",
              "      <td>8</td>\n",
              "      <td>256</td>\n",
              "      <td>2.20</td>\n",
              "      <td>946</td>\n",
              "    </tr>\n",
              "    <tr>\n",
              "      <th>3</th>\n",
              "      <td>3</td>\n",
              "      <td>Dell</td>\n",
              "      <td>4</td>\n",
              "      <td>IPS Panel</td>\n",
              "      <td>2</td>\n",
              "      <td>1</td>\n",
              "      <td>5</td>\n",
              "      <td>33.782</td>\n",
              "      <td>1.6</td>\n",
              "      <td>8</td>\n",
              "      <td>128</td>\n",
              "      <td>1.22</td>\n",
              "      <td>1244</td>\n",
              "    </tr>\n",
              "    <tr>\n",
              "      <th>4</th>\n",
              "      <td>4</td>\n",
              "      <td>HP</td>\n",
              "      <td>4</td>\n",
              "      <td>Full HD</td>\n",
              "      <td>2</td>\n",
              "      <td>1</td>\n",
              "      <td>7</td>\n",
              "      <td>39.624</td>\n",
              "      <td>1.8</td>\n",
              "      <td>8</td>\n",
              "      <td>256</td>\n",
              "      <td>1.91</td>\n",
              "      <td>837</td>\n",
              "    </tr>\n",
              "  </tbody>\n",
              "</table>\n",
              "</div>"
            ],
            "text/plain": [
              "   Unnamed: 0 Manufacturer  Category     Screen  GPU  OS  CPU_core  \\\n",
              "0           0         Acer         4  IPS Panel    2   1         5   \n",
              "1           1         Dell         3    Full HD    1   1         3   \n",
              "2           2         Dell         3    Full HD    1   1         7   \n",
              "3           3         Dell         4  IPS Panel    2   1         5   \n",
              "4           4           HP         4    Full HD    2   1         7   \n",
              "\n",
              "   Screen_Size_cm  CPU_frequency  RAM_GB  Storage_GB_SSD  Weight_kg  Price  \n",
              "0          35.560            1.6       8             256       1.60    978  \n",
              "1          39.624            2.0       4             256       2.20    634  \n",
              "2          39.624            2.7       8             256       2.20    946  \n",
              "3          33.782            1.6       8             128       1.22   1244  \n",
              "4          39.624            1.8       8             256       1.91    837  "
            ]
          },
          "execution_count": 10,
          "metadata": {},
          "output_type": "execute_result"
        }
      ],
      "source": [
        "df.head()"
      ]
    },
    {
      "cell_type": "markdown",
      "metadata": {
        "id": "1eXN9Cj3mo6P"
      },
      "source": [
        "Notez que nous pouvons mettre à jour la colonne `Screen_Size_cm` de manière à ce que toutes les valeurs soient arrondies à 2 décimales près en utilisant `numpy.round()`\n"
      ]
    },
    {
      "cell_type": "code",
      "execution_count": null,
      "metadata": {
        "id": "lIAZZwzbmo6P"
      },
      "outputs": [],
      "source": [
        "df[['Screen_Size_cm']] = np.round(df[['Screen_Size_cm']],2)\n",
        "df.head()"
      ]
    },
    {
      "cell_type": "markdown",
      "metadata": {
        "id": "XN9TiRNDmo6P"
      },
      "source": [
        "# Tâche - 1\n",
        "\n",
        "### Évaluer le jeu de données pour les données manquantes\n",
        "Les données manquantes ont été converties de '?' à numpy.NaN. Pandas utilise les valeurs NaN et Null de manière interchangeable. Cela signifie que vous pouvez simplement identifier les entrées ayant des valeurs Null. Écrivez un code qui identifie quelles colonnes ont des données manquantes.\n"
      ]
    },
    {
      "cell_type": "code",
      "execution_count": null,
      "metadata": {
        "id": "GjtUiZMVmo6P"
      },
      "outputs": [],
      "source": [
        "# Write your code below and press Shift+Enter to execute\n"
      ]
    },
    {
      "cell_type": "markdown",
      "metadata": {
        "id": "DP9VyszJmo6P"
      },
      "source": [
        "# Tâche - 2\n",
        "\n",
        "### Remplacer par la moyenne\n",
        "Les valeurs manquantes dans les attributs ayant des données continues sont mieux remplacées par la valeur moyenne. Nous remarquons que les valeurs de l'attribut \"Weight_kg\" sont de nature continue et que certaines valeurs sont manquantes. Par conséquent, écrivez un code pour remplacer les valeurs manquantes du poids par la valeur moyenne de l'attribut.\n"
      ]
    },
    {
      "cell_type": "code",
      "execution_count": null,
      "metadata": {
        "id": "ixrVamPQmo6Q"
      },
      "outputs": [],
      "source": [
        "# Write your code below and press Shift+Enter to execute\n"
      ]
    },
    {
      "cell_type": "markdown",
      "metadata": {
        "id": "pvFDpSOmmo6Q"
      },
      "source": [
        "### Remplacer par la valeur la plus fréquente\n",
        "Les valeurs manquantes dans les attributs ayant des données catégorielles sont mieux remplacées par la valeur la plus fréquente. Nous remarquons que les valeurs de l'attribut \"Screen_Size_cm\" sont de nature catégorielle et que certaines valeurs sont manquantes. Par conséquent, écrivez un code pour remplacer les valeurs manquantes de la taille de l'écran par la valeur la plus fréquente de l'attribut.\n"
      ]
    },
    {
      "cell_type": "code",
      "execution_count": null,
      "metadata": {
        "id": "SCjUOs15mo6Q"
      },
      "outputs": [],
      "source": [
        "# Write your code below and press Shift+Enter to execute"
      ]
    },
    {
      "cell_type": "markdown",
      "metadata": {
        "id": "h8S1MwHVmo6Q"
      },
      "source": [
        "<details>\n",
        "    <summary>Click here for the solution</summary>\n",
        "    \n",
        "```python\n",
        "# replacing missing data with mode\n",
        "common_screen_size = df['Screen_Size_cm'].value_counts().idxmax()\n",
        "df[\"Screen_Size_cm\"].replace(np.nan, common_screen_size, inplace=True)\n",
        "```\n",
        "</details>\n"
      ]
    },
    {
      "cell_type": "markdown",
      "metadata": {
        "id": "Ebg6_JQvmo6Q"
      },
      "source": [
        "# Tâche - 3\n",
        "\n",
        "### Correction des types de données\n",
        "Les colonnes \"Weight_kg\" et \"Screen_Size_cm\" ont toutes deux le type de données \"Object\", alors qu'elles devraient avoir un type de données \"float\". Écrivez un code pour corriger le type de données de ces deux colonnes.\n"
      ]
    },
    {
      "cell_type": "code",
      "execution_count": null,
      "metadata": {
        "id": "NkWriVcUmo6Q"
      },
      "outputs": [],
      "source": [
        "# Write your code below and press Shift+Enter to execute\n"
      ]
    },
    {
      "cell_type": "markdown",
      "metadata": {
        "id": "Zgzwj2hfmo6Q"
      },
      "source": [
        "# Tâche - 4\n",
        "\n",
        "### Standardisation des Données\n",
        "La valeur de la taille de l'écran est généralement exprimée en pouces. De même, le poids de l'ordinateur portable doit être en livres. Utilisez les unités de conversion mentionnées ci-dessous et écrivez un code pour modifier les colonnes du dataframe en conséquence. Mettez également à jour leurs noms.\n",
        "```{math}\n",
        "1 inch = 2.54 cm\n",
        "1 kg   = 2.205 pounds\n",
        "```\n"
      ]
    },
    {
      "cell_type": "code",
      "execution_count": null,
      "metadata": {
        "id": "XL4FSzOnmo6R"
      },
      "outputs": [],
      "source": [
        "# Write your code below and press Shift+Enter to execute\n"
      ]
    },
    {
      "cell_type": "markdown",
      "metadata": {
        "id": "kqIQUcEGmo6R"
      },
      "source": [
        "### Normalisation des Données\n",
        "Il est souvent nécessaire de normaliser un attribut de données continues. Écrivez un code pour normaliser l'attribut \"CPU_frequency\" par rapport à la valeur maximale disponible dans le jeu de données.\n"
      ]
    },
    {
      "cell_type": "code",
      "execution_count": null,
      "metadata": {
        "id": "gCC8Iv_Omo6R"
      },
      "outputs": [],
      "source": [
        "# Write your code below and press Shift+Enter to execute\n"
      ]
    },
    {
      "cell_type": "markdown",
      "metadata": {
        "id": "WCvnHUwkmo6R"
      },
      "source": [
        "# Tâche - 5\n",
        "\n",
        "### Binning\n",
        "Le binning est un processus de création d'un attribut catégoriel qui divise les valeurs d'une donnée continue en un nombre spécifié de groupes. Dans ce cas, écrivez un code pour créer 3 bins pour l'attribut \"Price\". Ces bins seront nommés \"Low\", \"Medium\" et \"High\". Le nouvel attribut sera nommé \"Price-binned\".\n"
      ]
    },
    {
      "cell_type": "code",
      "execution_count": null,
      "metadata": {
        "id": "gs7Cqyjomo6R"
      },
      "outputs": [],
      "source": [
        "# Write your code below and press Shift+Enter to execute\n"
      ]
    },
    {
      "cell_type": "markdown",
      "metadata": {
        "id": "SmXMVvnOmo6R"
      },
      "source": [
        "De plus, affichez le graphique à barres de ces bins.\n"
      ]
    },
    {
      "cell_type": "code",
      "execution_count": null,
      "metadata": {
        "id": "RdJehKvsmo6R"
      },
      "outputs": [],
      "source": [
        "# Write your code below and press Shift+Enter to execute\n"
      ]
    },
    {
      "cell_type": "markdown",
      "metadata": {
        "id": "91rZSKKWmo6R"
      },
      "source": [
        "# Tâche - 6\n",
        "\n",
        "### Variables indicatrices\n",
        "Convertissez l'attribut \"Screen\" du jeu de données en 2 variables indicatrices, \"Screen-IPS_panel\" et \"Screen-Full_HD\". Ensuite, supprimez l'attribut \"Screen\" du jeu de données.\n"
      ]
    },
    {
      "cell_type": "code",
      "execution_count": null,
      "metadata": {
        "id": "e70EHksNmo6S"
      },
      "outputs": [],
      "source": [
        "# Write your code below and press Shift+Enter to execute\n"
      ]
    },
    {
      "cell_type": "code",
      "execution_count": null,
      "metadata": {
        "id": "920mnRnXmo6S"
      },
      "outputs": [],
      "source": [
        "print(df.head())"
      ]
    }
  ],
  "metadata": {
    "colab": {
      "provenance": []
    },
    "kernelspec": {
      "display_name": "CC",
      "language": "python",
      "name": "python3"
    },
    "language_info": {
      "codemirror_mode": {
        "name": "ipython",
        "version": 3
      },
      "file_extension": ".py",
      "mimetype": "text/x-python",
      "name": "python",
      "nbconvert_exporter": "python",
      "pygments_lexer": "ipython3",
      "version": "3.13.1"
    },
    "prev_pub_hash": "5e3a8b7ec89f1a235ff15d33d91b7370891c708cfdc79760290db24a4cbd8f1c"
  },
  "nbformat": 4,
  "nbformat_minor": 0
}
