{
 "cells": [
  {
   "cell_type": "markdown",
   "metadata": {},
   "source": [
    "# Exercice 1\n",
    "Creation et manipulation de classes "
   ]
  },
  {
   "cell_type": "code",
   "execution_count": 21,
   "metadata": {},
   "outputs": [
    {
     "name": "stdout",
     "output_type": "stream",
     "text": [
      "titre: seeds of destruction, Auteur: F William Engdal , Nombre de pages: 232 \n",
      "titre: Century of War, Auteur: F William Engdal , Nombre de pages: 253 \n"
     ]
    }
   ],
   "source": [
    "class Livre:\n",
    "\tdef __init__(self, titre:str, auteur:str, nb_page:int):\n",
    "\t\tself.titre = titre\n",
    "\t\tself.auteur = auteur\n",
    "\t\tself.nb_page = nb_page\n",
    "\tdef afficher_info(self):\n",
    "\t\treturn f\"titre: {self.titre}, Auteur: {self.auteur} , Nombre de pages: {self.nb_page} \"\n",
    "\t\t\n",
    "livre1 = Livre(\"seeds of destruction\", \"F William Engdal\", 232)\n",
    "print(livre1.afficher_info())\n",
    "livre2 = Livre(\"Century of War\", \"F William Engdal\", 253)\n",
    "print(livre2.afficher_info())"
   ]
  },
  {
   "cell_type": "markdown",
   "metadata": {},
   "source": [
    "# Exercice 2\n",
    "Encapsulation et methodes"
   ]
  },
  {
   "cell_type": "code",
   "execution_count": null,
   "metadata": {},
   "outputs": [
    {
     "name": "stdout",
     "output_type": "stream",
     "text": [
      "titre: seeds of destruction, Auteur: F William Engdal , Nombre de pages: 232 \n",
      "titre: Century of War, Auteur: F William Engdal , Nombre de pages: 253 \n",
      "le nombre de page doit être supérieur à 0\n"
     ]
    }
   ],
   "source": [
    "class Livre:\n",
    "\tdef __init__(self, titre:str, auteur:str, nb_page:int):\n",
    "\t\tself.titre = titre\n",
    "\t\tself.auteur = auteur\n",
    "\t\tself._nb_page = nb_page\n",
    "\t\n",
    "\tdef afficher_info(self):\n",
    "\t\treturn f\"titre: {self.titre}, Auteur: {self.auteur} , Nombre de pages: {self._nb_page} \"\n",
    "\t\n",
    "\tdef set_nb_pages(self, nombre_page:int):\n",
    "\t\tif nombre_page <= 0:\n",
    "\t\t\tprint(\"le nombre de page doit être supérieur à 0\")\n",
    "\t\telse:\n",
    "\t\t\tself._nb_page = nombre_page\n",
    "\t\t\t\n",
    "\t\n",
    "\t\t\n",
    "livre1 = Livre(\"seeds of destruction\", \"F William Engdal\", 232)\n",
    "print(livre1.afficher_info())\n",
    "livre2 = Livre(\"Century of War\", \"F William Engdal\", 253)\n",
    "print(livre2.afficher_info())\n",
    "livre2.set_nb_pages(-20)"
   ]
  },
  {
   "cell_type": "markdown",
   "metadata": {},
   "source": [
    "# Exercice 3\n",
    "heritage et surchage"
   ]
  },
  {
   "cell_type": "code",
   "execution_count": 25,
   "metadata": {},
   "outputs": [
    {
     "name": "stdout",
     "output_type": "stream",
     "text": [
      "titre: Gods of money, Auteur: F William Engdal , Nombre de pages: 302 , taille: 3.4 Mo\n"
     ]
    }
   ],
   "source": [
    "class LivreElectronique(Livre):\n",
    "    def __init__(self, titre:str, auteur:str, nb_page:int, taille_fichier:float ):\n",
    "        super().__init__(titre, auteur, nb_page)\n",
    "        self.taille_fichier = taille_fichier\n",
    "    \n",
    "    def afficher_info(self):\n",
    "        return super().afficher_info() + f\", taille: {self.taille_fichier} Mo\"\n",
    "\n",
    "livre3 = LivreElectronique(\"Gods of money\",\"F William Engdal\", 302, 3.4)\n",
    "print(livre3.afficher_info())"
   ]
  },
  {
   "cell_type": "markdown",
   "metadata": {},
   "source": [
    "# Exercice 4\n",
    "variables globales et non locales"
   ]
  },
  {
   "cell_type": "code",
   "execution_count": 28,
   "metadata": {},
   "outputs": [
    {
     "name": "stdout",
     "output_type": "stream",
     "text": [
      "titre: seeds of destruction, Auteur: F William Engdal , Nombre de pages: 232 \n",
      "titre: Century of War, Auteur: F William Engdal , Nombre de pages: 253 \n",
      "le nombre de page doit être supérieur à 0\n",
      "titre: Gods of money, Auteur: F William Engdal , Nombre de pages: 302 , taille: 3.4 Mo\n",
      "titre: Gods of money, Auteur: F William Engdal , Nombre de pages: 302 , taille: 3.4 Mo\n",
      "titre: Gods of money, Auteur: F William Engdal , Nombre de pages: 302 , taille: 3.4 Mo\n",
      "5\n"
     ]
    }
   ],
   "source": [
    "total_livres = 0\n",
    "class Livre:\n",
    "\tdef __init__(self, titre:str, auteur:str, nb_page:int):\n",
    "\t\tglobal total_livres\n",
    "\t\ttotal_livres += 1\n",
    "\t\tself.titre = titre\n",
    "\t\tself.auteur = auteur\n",
    "\t\tself._nb_page = nb_page\n",
    "\t\n",
    "\tdef afficher_info(self):\n",
    "\t\treturn f\"titre: {self.titre}, Auteur: {self.auteur} , Nombre de pages: {self._nb_page} \"\n",
    "\t\n",
    "\tdef set_nb_pages(self, nombre_page:int):\n",
    "\t\tif nombre_page <= 0:\n",
    "\t\t\tprint(\"le nombre de page doit être supérieur à 0\")\n",
    "\t\telse:\n",
    "\t\t\tself._nb_page = nombre_page\n",
    "\t\t\t\n",
    "class LivreElectronique(Livre):\n",
    "    def __init__(self, titre:str, auteur:str, nb_page:int, taille_fichier:float ):\n",
    "        super().__init__(titre, auteur, nb_page)\n",
    "        self.taille_fichier = taille_fichier\n",
    "    \n",
    "    def afficher_info(self):\n",
    "        return super().afficher_info() + f\", taille: {self.taille_fichier} Mo\"\n",
    "\t\n",
    "livre1 = Livre(\"seeds of destruction\", \"F William Engdal\", 232)\n",
    "print(livre1.afficher_info())\n",
    "livre2 = Livre(\"Century of War\", \"F William Engdal\", 253)\n",
    "print(livre2.afficher_info())\n",
    "livre2.set_nb_pages(-20)\n",
    "livre3 = LivreElectronique(\"Gods of money\",\"F William Engdal\", 302, 3.4)\n",
    "print(livre3.afficher_info())\n",
    "livre4 = LivreElectronique(\"Gods of money\",\"F William Engdal\", 302, 3.4)\n",
    "print(livre4.afficher_info())\n",
    "livre5 = LivreElectronique(\"Gods of money\",\"F William Engdal\", 302, 3.4)\n",
    "print(livre5.afficher_info())\n",
    "print(total_livres)"
   ]
  }
 ],
 "metadata": {
  "kernelspec": {
   "display_name": "CC",
   "language": "python",
   "name": "python3"
  },
  "language_info": {
   "codemirror_mode": {
    "name": "ipython",
    "version": 3
   },
   "file_extension": ".py",
   "mimetype": "text/x-python",
   "name": "python",
   "nbconvert_exporter": "python",
   "pygments_lexer": "ipython3",
   "version": "3.13.1"
  }
 },
 "nbformat": 4,
 "nbformat_minor": 2
}
