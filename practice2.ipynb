{
  "cells": [
    {
      "cell_type": "markdown",
      "metadata": {
        "id": "yKG6hWptPgiE"
      },
      "source": [
        "# **Travaux pratique : Importation d'un ensemble de données - Tarification des ordinateurs portables**\n",
        "\n",
        "Temps estimé nécessaire : **20** minutes\n",
        "\n",
        "Dans ce laboratoire, vous pratiquerez le processus de chargement et d'extraction d'informations de base sur un ensemble de données tel qu'appris dans le module. Vous disposez d'un nouvel ensemble de données sur la « tarification des ordinateurs portables » qui sera utilisé pour tous les laboratoires pratiques tout au long du cours.\n"
      ]
    },
    {
      "cell_type": "markdown",
      "metadata": {
        "id": "mdY4EwEbPgiH"
      },
      "source": [
        "# Objectifs\n",
        "\n",
        "Après avoir terminé ce laboratoire, vous serez capable de :\n",
        "\n",
        "- Importer un ensemble de données d'un fichier CSV vers un dataframe Pandas\n",
        "- Développer quelques connaissances de base sur l'ensemble de données"
      ]
    },
    {
      "cell_type": "markdown",
      "metadata": {
        "id": "Pr3GagZQPgiI"
      },
      "source": [
        "# Setup\n"
      ]
    },
    {
      "cell_type": "markdown",
      "metadata": {
        "id": "WHbiqavDPgiJ"
      },
      "source": [
        "Pour ce laboratoire, nous utiliserons les bibliothèques suivantes :\n",
        "\n",
        "* `skillsnetwork` pour télécharger l'ensemble de données\n",
        "\n",
        "* [`pandas`](https://pandas.pydata.org/?utm_medium=Exinfluencer&utm_source=Exinfluencer&utm_content=000026UJ&utm_term=10006555&utm_id=NA-SkillsNetwork-Channel-SkillsNetworkCoursesIBMML0187ENSkillsNetwork31430127-2021-01-01) pour gérer les données.\n",
        "* [`numpy`](https://numpy.org/?utm_medium=Exinfluencer&utm_source=Exinfluencer&utm_content=000026UJ&utm_term=10006555&utm_id=NA-SkillsNetwork-Channel-SkillsNetworkCoursesIBMML0187ENSkillsNetwork31430127-2021-01-01) pour les opérations mathématiques.\n"
      ]
    },
    {
      "cell_type": "markdown",
      "metadata": {
        "id": "LIqUSprEPgiK"
      },
      "source": [
        "### Importation des bibliothèques requises"
      ]
    },
    {
      "cell_type": "code",
      "execution_count": 1,
      "metadata": {
        "id": "JvL0GM_tPgiL",
        "trusted": true
      },
      "outputs": [],
      "source": [
        "import pandas as pd\n",
        "import numpy as np"
      ]
    },
    {
      "cell_type": "markdown",
      "metadata": {
        "id": "G99hvipnPgiN"
      },
      "source": [
        "L'ensemble de données à utiliser est disponible sur le lien ci-dessous."
      ]
    },
    {
      "cell_type": "markdown",
      "metadata": {
        "id": "Jj5HTRYxPgiP"
      },
      "source": [
        "Les fonctions ci-dessous téléchargeront l'ensemble de données dans votre navigateur :"
      ]
    },
    {
      "cell_type": "code",
      "execution_count": null,
      "metadata": {
        "id": "4MHfg8POPgiQ",
        "trusted": true
      },
      "outputs": [
        {
          "ename": "ModuleNotFoundError",
          "evalue": "No module named 'pyodide'",
          "output_type": "error",
          "traceback": [
            "\u001b[0;31m---------------------------------------------------------------------------\u001b[0m",
            "\u001b[0;31mModuleNotFoundError\u001b[0m                       Traceback (most recent call last)",
            "Cell \u001b[0;32mIn[2], line 1\u001b[0m\n\u001b[0;32m----> 1\u001b[0m \u001b[38;5;28;01mfrom\u001b[39;00m \u001b[38;5;21;01mpyodide\u001b[39;00m\u001b[38;5;21;01m.\u001b[39;00m\u001b[38;5;21;01mhttp\u001b[39;00m \u001b[38;5;28;01mimport\u001b[39;00m pyfetch\n\u001b[1;32m      3\u001b[0m \u001b[38;5;28;01masync\u001b[39;00m \u001b[38;5;28;01mdef\u001b[39;00m \u001b[38;5;21mdownload\u001b[39m(url, filename):\n\u001b[1;32m      4\u001b[0m     response \u001b[38;5;241m=\u001b[39m \u001b[38;5;28;01mawait\u001b[39;00m pyfetch(url)\n",
            "\u001b[0;31mModuleNotFoundError\u001b[0m: No module named 'pyodide'"
          ]
        }
      ],
      "source": [
        "from pyodide.http import pyfetch\n",
        "import requests\n",
        "\n",
        "async def download(url, filename):\n",
        "    response = await pyfetch(url)\n",
        "    if response.status == 200:\n",
        "        response = requests.get(url)\n",
        "        with open(filename, \"wb\") as f:\n",
        "            f.write(response.content)"
      ]
    },
    {
      "cell_type": "code",
      "execution_count": null,
      "metadata": {
        "id": "r_QPaV9oPgiQ"
      },
      "outputs": [],
      "source": [
        "file_path = \"https://cf-courses-data.s3.us.cloud-object-storage.appdomain.cloud/IBMDeveloperSkillsNetwork-DA0101EN-Coursera/laptop_pricing_dataset_base.csv\""
      ]
    },
    {
      "cell_type": "markdown",
      "metadata": {
        "id": "1fFEKhWKPgiR"
      },
      "source": [
        "Pour obtenir l'ensemble de données, utilisez la fonction download() telle que définie ci-dessus :"
      ]
    },
    {
      "cell_type": "code",
      "execution_count": null,
      "metadata": {
        "id": "nIXB-j7OPgiR"
      },
      "outputs": [],
      "source": [
        "await download(file_path, \"laptops.csv\")\n",
        "file_name=\"laptops.csv\""
      ]
    },
    {
      "cell_type": "code",
      "execution_count": 1,
      "metadata": {
        "id": "Jx7aWysPPgiS"
      },
      "outputs": [],
      "source": [
        "#Code ici\n"
      ]
    },
    {
      "cell_type": "markdown",
      "metadata": {
        "id": "kQVCGTjtPgiU"
      },
      "source": [
        "<h1> Tâche n° 1 : </h1>\n",
        "<h3> Charger l'ensemble de données dans un dataframe pandas nommé « df »</h3>\n",
        "Imprimez les 5 premières entrées de l'ensemble de données pour confirmer le chargement."
      ]
    },
    {
      "cell_type": "code",
      "execution_count": null,
      "metadata": {
        "id": "bZjP1fB3PgiU"
      },
      "outputs": [],
      "source": [
        "# Write your code below and press Shift+Enter to execute.\n"
      ]
    },
    {
      "cell_type": "markdown",
      "metadata": {
        "id": "8JNTzRvPPgiV"
      },
      "source": [
        "<h1> Tâche n° 2 : </h1>\n",
        "<h3>Ajouter des en-têtes au dataframe</h3>\n",
        "Les en-têtes de l'ensemble de données sont, dans l'ordre, « Fabricant », « Catégorie », « Écran », « GPU », « OS », « CPU_core »,\n",
        "« Taille_écran_pouces », « Fréquence_CPU », « RAM_Go », « Stockage_Go_SSD », « Poids_kg » et « Prix ».\n",
        "\n",
        "Confirmez l'insertion en imprimant les 10 premières lignes de l'ensemble de données.\n"
      ]
    },
    {
      "cell_type": "code",
      "execution_count": null,
      "metadata": {
        "id": "PLzL_QzZPgiV"
      },
      "outputs": [],
      "source": [
        "# Write your code below and press Shift+Enter to execute.\n"
      ]
    },
    {
      "cell_type": "markdown",
      "metadata": {
        "id": "aySziyhPPgiW"
      },
      "source": [
        "<h1> Tâche n° 3 : </h1>\n",
        "<h3>Remplacer « ?» par « NaN »</h3>\n",
        "Remplacer les entrées « ?» dans l'ensemble de données par la valeur NaN, reçue du package Numpy."
      ]
    },
    {
      "cell_type": "code",
      "execution_count": null,
      "metadata": {
        "id": "RPW9jC3tPgiW"
      },
      "outputs": [],
      "source": [
        "# Write your code below and press Shift+Enter to execute.\n"
      ]
    },
    {
      "cell_type": "markdown",
      "metadata": {
        "id": "VcIkBAGZPgiY"
      },
      "source": [
        "<h1> Tâche n°4 : </h1>\n",
        "<h3>Imprimer les types de données des colonnes du dataframe</h3>\n",
        "Notez les types de données des différentes colonnes de l'ensemble de données."
      ]
    },
    {
      "cell_type": "code",
      "execution_count": null,
      "metadata": {
        "id": "ycRRNdS2PgiY"
      },
      "outputs": [],
      "source": [
        "# Write your code below and press Shift+Enter to execute.\n"
      ]
    },
    {
      "cell_type": "markdown",
      "metadata": {
        "id": "0qyGxrppPgiZ"
      },
      "source": [
        "<h1> Tâche n° 5 : </h1>\n",
        "<h3> Imprimez la description statistique de l'ensemble de données, y compris celle des types de données « objet ».</h3>\n"
      ]
    },
    {
      "cell_type": "code",
      "execution_count": null,
      "metadata": {
        "id": "YqWWyMdKPgiZ"
      },
      "outputs": [],
      "source": [
        "# Write your code below and press Shift+Enter to execute.\n"
      ]
    },
    {
      "cell_type": "markdown",
      "metadata": {
        "id": "QI8YN0dDPgic"
      },
      "source": [
        "<h1> Tâche n° 6 : </h1>\n",
        "<h3>Imprimer les informations récapitulatives de l'ensemble de données.</h3>\n"
      ]
    },
    {
      "cell_type": "code",
      "execution_count": null,
      "metadata": {
        "id": "2bZPs1ZuPgie"
      },
      "outputs": [],
      "source": [
        "# Write your code below and press Shift+Enter to execute.\n"
      ]
    },
    {
      "cell_type": "markdown",
      "metadata": {
        "id": "Z672txIrPgif"
      },
      "source": [
        "---\n"
      ]
    }
  ],
  "metadata": {
    "colab": {
      "provenance": []
    },
    "kernelspec": {
      "display_name": "CC",
      "language": "python",
      "name": "python3"
    },
    "language_info": {
      "codemirror_mode": {
        "name": "ipython",
        "version": 3
      },
      "file_extension": ".py",
      "mimetype": "text/x-python",
      "name": "python",
      "nbconvert_exporter": "python",
      "pygments_lexer": "ipython3",
      "version": "3.13.1"
    },
    "prev_pub_hash": "7997b8a71ae7e2680cb74e72fc353601a4a722981b15b6b93a8bf964c115ec58"
  },
  "nbformat": 4,
  "nbformat_minor": 0
}
