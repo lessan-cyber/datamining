{
 "cells": [
  {
   "cell_type": "markdown",
   "metadata": {},
   "source": [
    "# Exercice 1\n"
   ]
  },
  {
   "cell_type": "code",
   "execution_count": 9,
   "metadata": {},
   "outputs": [
    {
     "name": "stderr",
     "output_type": "stream",
     "text": [
      "/usr/lib64/python3.13/pty.py:95: DeprecationWarning: This process (pid=185374) is multi-threaded, use of forkpty() may lead to deadlocks in the child.\n",
      "  pid, fd = os.forkpty()\n"
     ]
    },
    {
     "name": "stdout",
     "output_type": "stream",
     "text": [
      "Defaulting to user installation because normal site-packages is not writeable\n",
      "Requirement already satisfied: seaborn in /home/aziz/.local/lib/python3.13/site-packages (0.13.2)\n",
      "Requirement already satisfied: numpy!=1.24.0,>=1.20 in /usr/lib64/python3.13/site-packages (from seaborn) (1.26.4)\n",
      "Requirement already satisfied: pandas>=1.2 in /home/aziz/.local/lib/python3.13/site-packages (from seaborn) (2.2.3)\n",
      "Requirement already satisfied: matplotlib!=3.6.1,>=3.4 in /home/aziz/.local/lib/python3.13/site-packages (from seaborn) (3.10.1)\n",
      "Requirement already satisfied: contourpy>=1.0.1 in /home/aziz/.local/lib/python3.13/site-packages (from matplotlib!=3.6.1,>=3.4->seaborn) (1.3.1)\n",
      "Requirement already satisfied: cycler>=0.10 in /home/aziz/.local/lib/python3.13/site-packages (from matplotlib!=3.6.1,>=3.4->seaborn) (0.12.1)\n",
      "Requirement already satisfied: fonttools>=4.22.0 in /home/aziz/.local/lib/python3.13/site-packages (from matplotlib!=3.6.1,>=3.4->seaborn) (4.56.0)\n",
      "Requirement already satisfied: kiwisolver>=1.3.1 in /home/aziz/.local/lib/python3.13/site-packages (from matplotlib!=3.6.1,>=3.4->seaborn) (1.4.8)\n",
      "Requirement already satisfied: packaging>=20.0 in /usr/lib/python3.13/site-packages (from matplotlib!=3.6.1,>=3.4->seaborn) (24.2)\n",
      "Requirement already satisfied: pillow>=8 in /usr/lib64/python3.13/site-packages (from matplotlib!=3.6.1,>=3.4->seaborn) (11.0.0)\n",
      "Requirement already satisfied: pyparsing>=2.3.1 in /usr/lib/python3.13/site-packages (from matplotlib!=3.6.1,>=3.4->seaborn) (3.1.2)\n",
      "Requirement already satisfied: python-dateutil>=2.7 in /usr/lib/python3.13/site-packages (from matplotlib!=3.6.1,>=3.4->seaborn) (2.8.2)\n",
      "Requirement already satisfied: pytz>=2020.1 in /usr/lib/python3.13/site-packages (from pandas>=1.2->seaborn) (2025.1)\n",
      "Requirement already satisfied: tzdata>=2022.7 in /home/aziz/.local/lib/python3.13/site-packages (from pandas>=1.2->seaborn) (2024.1)\n",
      "Requirement already satisfied: six>=1.5 in /usr/lib/python3.13/site-packages (from python-dateutil>=2.7->matplotlib!=3.6.1,>=3.4->seaborn) (1.16.0)\n",
      "Note: you may need to restart the kernel to use updated packages.\n"
     ]
    }
   ],
   "source": [
    "%pip install seaborn"
   ]
  },
  {
   "cell_type": "code",
   "execution_count": 10,
   "metadata": {},
   "outputs": [],
   "source": [
    "import pandas as pd\n",
    "import numpy as np\n",
    "import matplotlib.pyplot as plt\n",
    "import seaborn as sns\n",
    "from sklearn.preprocessing import StandardScaler\n",
    "import statsmodels.api as sm\n",
    "import numpy as np\n",
    "import pandas as pd\n",
    "from mlxtend.frequent_patterns import apriori, association_rules\n",
    "import pandas as pd\n",
    "from apyori import apriori as ap"
   ]
  },
  {
   "cell_type": "code",
   "execution_count": 19,
   "metadata": {},
   "outputs": [
    {
     "data": {
      "text/html": [
       "<div>\n",
       "<style scoped>\n",
       "    .dataframe tbody tr th:only-of-type {\n",
       "        vertical-align: middle;\n",
       "    }\n",
       "\n",
       "    .dataframe tbody tr th {\n",
       "        vertical-align: top;\n",
       "    }\n",
       "\n",
       "    .dataframe thead th {\n",
       "        text-align: right;\n",
       "    }\n",
       "</style>\n",
       "<table border=\"1\" class=\"dataframe\">\n",
       "  <thead>\n",
       "    <tr style=\"text-align: right;\">\n",
       "      <th></th>\n",
       "      <th>Lait</th>\n",
       "      <th>Pain</th>\n",
       "      <th>Beurre</th>\n",
       "      <th>Jus d' orange</th>\n",
       "      <th>Céréales</th>\n",
       "    </tr>\n",
       "  </thead>\n",
       "  <tbody>\n",
       "    <tr>\n",
       "      <th>0</th>\n",
       "      <td>1</td>\n",
       "      <td>1</td>\n",
       "      <td>1</td>\n",
       "      <td>0</td>\n",
       "      <td>0</td>\n",
       "    </tr>\n",
       "    <tr>\n",
       "      <th>1</th>\n",
       "      <td>1</td>\n",
       "      <td>0</td>\n",
       "      <td>0</td>\n",
       "      <td>1</td>\n",
       "      <td>1</td>\n",
       "    </tr>\n",
       "    <tr>\n",
       "      <th>2</th>\n",
       "      <td>0</td>\n",
       "      <td>1</td>\n",
       "      <td>1</td>\n",
       "      <td>0</td>\n",
       "      <td>0</td>\n",
       "    </tr>\n",
       "    <tr>\n",
       "      <th>3</th>\n",
       "      <td>1</td>\n",
       "      <td>1</td>\n",
       "      <td>0</td>\n",
       "      <td>0</td>\n",
       "      <td>1</td>\n",
       "    </tr>\n",
       "    <tr>\n",
       "      <th>4</th>\n",
       "      <td>0</td>\n",
       "      <td>1</td>\n",
       "      <td>1</td>\n",
       "      <td>0</td>\n",
       "      <td>1</td>\n",
       "    </tr>\n",
       "    <tr>\n",
       "      <th>5</th>\n",
       "      <td>1</td>\n",
       "      <td>1</td>\n",
       "      <td>1</td>\n",
       "      <td>0</td>\n",
       "      <td>1</td>\n",
       "    </tr>\n",
       "    <tr>\n",
       "      <th>6</th>\n",
       "      <td>0</td>\n",
       "      <td>0</td>\n",
       "      <td>0</td>\n",
       "      <td>1</td>\n",
       "      <td>1</td>\n",
       "    </tr>\n",
       "  </tbody>\n",
       "</table>\n",
       "</div>"
      ],
      "text/plain": [
       "   Lait  Pain  Beurre  Jus d' orange  Céréales\n",
       "0     1     1       1              0         0\n",
       "1     1     0       0              1         1\n",
       "2     0     1       1              0         0\n",
       "3     1     1       0              0         1\n",
       "4     0     1       1              0         1\n",
       "5     1     1       1              0         1\n",
       "6     0     0       0              1         1"
      ]
     },
     "execution_count": 19,
     "metadata": {},
     "output_type": "execute_result"
    }
   ],
   "source": [
    "df = pd.DataFrame({\n",
    "    \"Lait\": [1,1,0,1,0,1,0],\n",
    "    \"Pain\": [1,0,1,1,1,1,0],\n",
    "    \"Beurre\": [1,0,1,0,1,1,0],\n",
    "    \"Jus d' orange\":[0,1,0,0,0,0,1],\n",
    "    \"Céréales\":[0,1,0,1,1,1,1],\n",
    "})\n",
    "df"
   ]
  },
  {
   "cell_type": "code",
   "execution_count": 20,
   "metadata": {},
   "outputs": [
    {
     "name": "stdout",
     "output_type": "stream",
     "text": [
      "Itemsets fréquents :\n"
     ]
    },
    {
     "name": "stderr",
     "output_type": "stream",
     "text": [
      "/home/aziz/.local/lib/python3.13/site-packages/mlxtend/frequent_patterns/fpcommon.py:161: DeprecationWarning: DataFrames with non-bool types result in worse computationalperformance and their support might be discontinued in the future.Please use a DataFrame with bool type\n",
      "  warnings.warn(\n"
     ]
    }
   ],
   "source": [
    "# Utiliser apriori pour trouver les itemsets fréquents\n",
    "frequent_itemsets = apriori(df, min_support=0.1, use_colnames=True)\n",
    "\n",
    "print(\"Itemsets fréquents :\")"
   ]
  },
  {
   "cell_type": "code",
   "execution_count": 21,
   "metadata": {},
   "outputs": [
    {
     "name": "stdout",
     "output_type": "stream",
     "text": [
      "     support                         itemsets\n",
      "0   0.571429                           (Lait)\n",
      "1   0.714286                           (Pain)\n",
      "2   0.571429                         (Beurre)\n",
      "3   0.285714                  (Jus d' orange)\n",
      "4   0.714286                       (Céréales)\n",
      "5   0.428571                     (Pain, Lait)\n",
      "6   0.285714                   (Beurre, Lait)\n",
      "7   0.142857            (Jus d' orange, Lait)\n",
      "8   0.428571                 (Céréales, Lait)\n",
      "9   0.571429                   (Beurre, Pain)\n",
      "10  0.428571                 (Céréales, Pain)\n",
      "11  0.285714               (Beurre, Céréales)\n",
      "12  0.285714        (Jus d' orange, Céréales)\n",
      "13  0.285714             (Beurre, Pain, Lait)\n",
      "14  0.285714           (Céréales, Pain, Lait)\n",
      "15  0.142857         (Beurre, Céréales, Lait)\n",
      "16  0.142857  (Jus d' orange, Céréales, Lait)\n",
      "17  0.285714         (Beurre, Céréales, Pain)\n",
      "18  0.142857   (Beurre, Céréales, Pain, Lait)\n"
     ]
    }
   ],
   "source": [
    "print(frequent_itemsets)"
   ]
  },
  {
   "cell_type": "code",
   "execution_count": 22,
   "metadata": {},
   "outputs": [
    {
     "name": "stdout",
     "output_type": "stream",
     "text": [
      "\n",
      "Règles d’association :\n"
     ]
    }
   ],
   "source": [
    "rules = association_rules(frequent_itemsets, metric=\"lift\", min_threshold=1.0)\n",
    "\n",
    "print(\"\\nRègles d’association :\")"
   ]
  },
  {
   "cell_type": "code",
   "execution_count": 23,
   "metadata": {},
   "outputs": [
    {
     "name": "stdout",
     "output_type": "stream",
     "text": [
      "                 antecedents               consequents   support  confidence  \\\n",
      "0                     (Pain)                    (Lait)  0.428571    0.600000   \n",
      "1                     (Lait)                    (Pain)  0.428571    0.750000   \n",
      "2                 (Céréales)                    (Lait)  0.428571    0.600000   \n",
      "3                     (Lait)                (Céréales)  0.428571    0.750000   \n",
      "4                   (Beurre)                    (Pain)  0.571429    1.000000   \n",
      "5                     (Pain)                  (Beurre)  0.571429    0.800000   \n",
      "6            (Jus d' orange)                (Céréales)  0.285714    1.000000   \n",
      "7                 (Céréales)           (Jus d' orange)  0.285714    0.400000   \n",
      "8             (Beurre, Lait)                    (Pain)  0.285714    1.000000   \n",
      "9               (Pain, Lait)                  (Beurre)  0.285714    0.666667   \n",
      "10                  (Beurre)              (Pain, Lait)  0.285714    0.500000   \n",
      "11                    (Pain)            (Beurre, Lait)  0.285714    0.400000   \n",
      "12          (Céréales, Pain)                    (Lait)  0.285714    0.666667   \n",
      "13                    (Lait)          (Céréales, Pain)  0.285714    0.500000   \n",
      "14     (Jus d' orange, Lait)                (Céréales)  0.142857    1.000000   \n",
      "15          (Céréales, Lait)           (Jus d' orange)  0.142857    0.333333   \n",
      "16           (Jus d' orange)          (Céréales, Lait)  0.142857    0.500000   \n",
      "17                (Céréales)     (Jus d' orange, Lait)  0.142857    0.200000   \n",
      "18        (Beurre, Céréales)                    (Pain)  0.285714    1.000000   \n",
      "19          (Céréales, Pain)                  (Beurre)  0.285714    0.666667   \n",
      "20                  (Beurre)          (Céréales, Pain)  0.285714    0.500000   \n",
      "21                    (Pain)        (Beurre, Céréales)  0.285714    0.400000   \n",
      "22  (Beurre, Céréales, Lait)                    (Pain)  0.142857    1.000000   \n",
      "23        (Beurre, Céréales)              (Pain, Lait)  0.142857    0.500000   \n",
      "24            (Beurre, Lait)          (Céréales, Pain)  0.142857    0.500000   \n",
      "25          (Céréales, Pain)            (Beurre, Lait)  0.142857    0.333333   \n",
      "26              (Pain, Lait)        (Beurre, Céréales)  0.142857    0.333333   \n",
      "27                    (Pain)  (Beurre, Céréales, Lait)  0.142857    0.200000   \n",
      "\n",
      "        lift  \n",
      "0   1.050000  \n",
      "1   1.050000  \n",
      "2   1.050000  \n",
      "3   1.050000  \n",
      "4   1.400000  \n",
      "5   1.400000  \n",
      "6   1.400000  \n",
      "7   1.400000  \n",
      "8   1.400000  \n",
      "9   1.166667  \n",
      "10  1.166667  \n",
      "11  1.400000  \n",
      "12  1.166667  \n",
      "13  1.166667  \n",
      "14  1.400000  \n",
      "15  1.166667  \n",
      "16  1.166667  \n",
      "17  1.400000  \n",
      "18  1.400000  \n",
      "19  1.166667  \n",
      "20  1.166667  \n",
      "21  1.400000  \n",
      "22  1.400000  \n",
      "23  1.166667  \n",
      "24  1.166667  \n",
      "25  1.166667  \n",
      "26  1.166667  \n",
      "27  1.400000  \n"
     ]
    }
   ],
   "source": [
    "print(rules[[\"antecedents\", \"consequents\", \"support\", \"confidence\", \"lift\"]])"
   ]
  },
  {
   "cell_type": "code",
   "execution_count": 28,
   "metadata": {},
   "outputs": [
    {
     "data": {
      "image/png": "[encoded data removed]",
      "text/plain": [
       "<Figure size 1000x500 with 1 Axes>"
      ]
     },
     "metadata": {},
     "output_type": "display_data"
    }
   ],
   "source": [
    "from sklearn.tree import DecisionTreeClassifier\n",
    "from sklearn.model_selection import train_test_split\n",
    "from sklearn import tree\n",
    "\n",
    "# Prepare the data\n",
    "X = df.drop(columns=[\"Lait\"])  # Features\n",
    "y = df[\"Lait\"]  # Target variable\n",
    "\n",
    "# Split the data into training and testing sets\n",
    "X_train, X_test, y_train, y_test = train_test_split(X, y, test_size=0.3, random_state=42)\n",
    "\n",
    "# Create and train the decision tree classifier\n",
    "clf = DecisionTreeClassifier(random_state=42)\n",
    "clf.fit(X_train, y_train)\n",
    "\n",
    "# Visualize the decision tree\n",
    "plt.figure(figsize=(10, 5))\n",
    "tree.plot_tree(clf, feature_names=X.columns, class_names=[\"No Lait\", \"Lait\"], filled=True)\n",
    "plt.show()"
   ]
  },
  {
   "cell_type": "code",
   "execution_count": null,
   "metadata": {},
   "outputs": [],
   "source": []
  }
 ],
 "metadata": {
  "kernelspec": {
   "display_name": "Python (CC)",
   "language": "python",
   "name": "cc"
  },
  "language_info": {
   "codemirror_mode": {
    "name": "ipython",
    "version": 3
   },
   "file_extension": ".py",
   "mimetype": "text/x-python",
   "name": "python",
   "nbconvert_exporter": "python",
   "pygments_lexer": "ipython3",
   "version": "3.13.2"
  }
 },
 "nbformat": 4,
 "nbformat_minor": 2
}
