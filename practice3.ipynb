{
 "cells": [
  {
   "cell_type": "markdown",
   "metadata": {
    "id": "e35a57b4-f71d-4381-a574-ebcb5e60b46d"
   },
   "source": [
    "# Traitement des données\n",
    "\n",
    "Temps estimé nécessaire : **30** minutes\n",
    "\n",
    "## Objectifs\n",
    "\n",
    "Après avoir terminé ce laboratoire, vous serez capable de :\n",
    "\n",
    "* Gérer les valeurs manquantes\n",
    "* Corriger le formatage des données\n",
    "* Standardiser et normaliser les données\n"
   ]
  },
  {
   "cell_type": "markdown",
   "metadata": {
    "id": "a37547a4-bafa-48fa-ad76-5a8e07c1e5e8"
   },
   "source": [
    "<h2>Table de contenu</h2>\n",
    "\n",
    "<div class=\"alert alert-block alert-info\" style=\"margin-top: 20px\">\n",
    "<ul>\n",
    "    <li><a href=\"#Identify-and-handle-missing-values\">Identify and handle missing values</a>\n",
    "            <li><a href=\"#Identify-missing-values\">Identify missing values</a></li>\n",
    "            <li><a href=\"#Deal-with-missing-data\">Deal with missing values</a></li>\n",
    "            <li><a href=\"#Correct-data-format\">Correct data format</a></li>\n",
    "        </ul>\n",
    "    </li>\n",
    "    <li><a href=\"#Data-Standardization\">Data standardization</a></li>\n",
    "    <li><a href=\"#Data-Normalization\">Data normalization (centering/scaling)</a></li>\n",
    "    <li><a href=\"#Binning\">Binning</a></li>\n",
    "    <li><a href=\"#Indicator-Variable\">Indicator variable</a></li>\n",
    "</ul>\n",
    "    \n",
    "</div>\n",
    "\n",
    "<hr>\n"
   ]
  },
  {
   "cell_type": "markdown",
   "metadata": {
    "id": "8c03c4e5-ece4-487e-a351-0f7acb5ae4f2"
   },
   "source": [
    "<h2>Quel est le but du traitement des données ?</h2>"
   ]
  },
  {
   "cell_type": "markdown",
   "metadata": {
    "id": "5c8ceb84-49de-44c6-b1b9-a178fd503509"
   },
   "source": [
    "Vous utilisez la manipulation de données pour convertir les données d’un format initial vers un format qui peut être meilleur pour l’analyse."
   ]
  },
  {
   "cell_type": "markdown",
   "metadata": {
    "id": "f9346907-aaaa-4f2f-8e2a-7494002eba05"
   },
   "source": [
    "<h3>Quel est le taux de consommation de carburant (L/100k) pour la voiture diesel ?</h3>"
   ]
  },
  {
   "cell_type": "markdown",
   "metadata": {
    "id": "469d6d49-b155-4952-9d27-e0f114ffb585"
   },
   "source": [
    "<h3>Importer des données</h3>\n",
    "<p>\n",
    "Vous pouvez trouver le « jeu de données automobiles » à partir du lien suivant : <a href=\"https://archive.ics.uci.edu/ml/machine-learning-databases/autos/imports-85.data\">https://archive.ics.uci.edu/ml/machine-learning-databases/autos/imports-85.data</a>.\n",
    "Vous utiliserez cet ensemble de données tout au long de ce cours.\n",
    "</p>\n"
   ]
  },
  {
   "cell_type": "markdown",
   "metadata": {
    "id": "c11befe0-37f9-47dd-9653-d817396a6d5c"
   },
   "source": [
    "<h4>Importer pandas</h4>\n"
   ]
  },
  {
   "cell_type": "code",
   "execution_count": null,
   "metadata": {
    "id": "f805824c-14a2-4496-b4bd-de641d0b417d"
   },
   "outputs": [],
   "source": [
    "#install specific version of libraries used in lab\n",
    "#! mamba install pandas==1.3.3\n",
    "#! mamba install numpy=1.21.2\n"
   ]
  },
  {
   "cell_type": "code",
   "execution_count": 1,
   "metadata": {
    "id": "a905d13d-ec2d-4bdf-88d2-6fe6ec160199"
   },
   "outputs": [],
   "source": [
    "import pandas as pd\n",
    "import matplotlib.pylab as plt"
   ]
  },
  {
   "cell_type": "markdown",
   "metadata": {
    "id": "d7e5e991-67df-4bba-8193-3d086a843cf9"
   },
   "source": [
    "<h2>Lecture de l'ensemble de données à partir de l'URL et ajout des en-têtes associés</h2>"
   ]
  },
  {
   "cell_type": "code",
   "execution_count": 3,
   "metadata": {
    "id": "036679ca-ebcb-4151-97b5-3accac66a858"
   },
   "outputs": [],
   "source": [
    "file_path=\"https://cf-courses-data.s3.us.cloud-object-storage.appdomain.cloud/IBMDeveloperSkillsNetwork-DA0101EN-SkillsNetwork/labs/Data%20files/auto.csv\""
   ]
  },
  {
   "cell_type": "markdown",
   "metadata": {
    "id": "19062d03-84f1-42a5-8e8e-0bb28469acdf"
   },
   "source": [
    "Les fonctions ci-dessous téléchargeront l'ensemble de données dans votre navigateur :"
   ]
  },
  {
   "cell_type": "code",
   "execution_count": 4,
   "metadata": {
    "id": "7d72ba33-a2e0-4dd5-a476-08ac40070c57"
   },
   "outputs": [],
   "source": [
    "#from pyodide.http import pyfetch\n",
    "import requests\n",
    "response = requests.get(file_path)\n",
    "file_name = \"auto_info.csv\"\n",
    "with open(file_name, 'wb') as f:\n",
    "    f.write(response.content)\n"
   ]
  },
  {
   "cell_type": "markdown",
   "metadata": {
    "id": "93cdd650-686f-4840-b2ea-39162a598870"
   },
   "source": [
    "Tout d’abord, attribuez l’URL de l’ensemble de données à « filepath »."
   ]
  },
  {
   "cell_type": "markdown",
   "metadata": {
    "id": "7810f860-d61e-4908-8818-eb2932b78172"
   },
   "source": [
    "Pour obtenir l'ensemble de données, utilisez la fonction download() telle que définie ci-dessus :"
   ]
  },
  {
   "cell_type": "markdown",
   "metadata": {
    "id": "ad03867e-ac21-4fa5-aa39-263859f119da"
   },
   "source": [
    "Ensuite, créez une liste Python <b>headers</b> contenant le nom des en-têtes."
   ]
  },
  {
   "cell_type": "code",
   "execution_count": 5,
   "metadata": {
    "id": "032eb2b0-5f83-4969-bd8f-8221e5b65ff0"
   },
   "outputs": [],
   "source": [
    "headers = [\"symboling\",\"normalized-losses\",\"make\",\"fuel-type\",\"aspiration\", \"num-of-doors\",\"body-style\",\n",
    "         \"drive-wheels\",\"engine-location\",\"wheel-base\", \"length\",\"width\",\"height\",\"curb-weight\",\"engine-type\",\n",
    "         \"num-of-cylinders\", \"engine-size\",\"fuel-system\",\"bore\",\"stroke\",\"compression-ratio\",\"horsepower\",\n",
    "         \"peak-rpm\",\"city-mpg\",\"highway-mpg\",\"price\"]"
   ]
  },
  {
   "cell_type": "markdown",
   "metadata": {
    "id": "64bffd90-cd74-48e3-a4df-1d4b81cc2c31"
   },
   "source": [
    "Utilisez la méthode Pandas <b>read_csv()</b> pour charger les données à partir de l'adresse Web. Définissez le paramètre « names » comme étant égal à la liste Python « headers ».\n"
   ]
  },
  {
   "cell_type": "code",
   "execution_count": 7,
   "metadata": {
    "id": "e8d10d7f-0edf-4afa-b103-a8543995daa9"
   },
   "outputs": [],
   "source": [
    "df = pd.read_csv(file_name, names = headers)"
   ]
  },
  {
   "cell_type": "markdown",
   "metadata": {
    "id": "02c1030c-7576-419a-a3a4-454e8b1895b7"
   },
   "source": [
    "Utilisez la méthode <b>head()</b> pour afficher les cinq premières lignes du dataframe."
   ]
  },
  {
   "cell_type": "code",
   "execution_count": 8,
   "metadata": {
    "id": "3566dd15-2291-44d3-870a-62b2f70b1dbc"
   },
   "outputs": [
    {
     "data": {
      "text/html": [
       "<div>\n",
       "<style scoped>\n",
       "    .dataframe tbody tr th:only-of-type {\n",
       "        vertical-align: middle;\n",
       "    }\n",
       "\n",
       "    .dataframe tbody tr th {\n",
       "        vertical-align: top;\n",
       "    }\n",
       "\n",
       "    .dataframe thead th {\n",
       "        text-align: right;\n",
       "    }\n",
       "</style>\n",
       "<table border=\"1\" class=\"dataframe\">\n",
       "  <thead>\n",
       "    <tr style=\"text-align: right;\">\n",
       "      <th></th>\n",
       "      <th>symboling</th>\n",
       "      <th>normalized-losses</th>\n",
       "      <th>make</th>\n",
       "      <th>fuel-type</th>\n",
       "      <th>aspiration</th>\n",
       "      <th>num-of-doors</th>\n",
       "      <th>body-style</th>\n",
       "      <th>drive-wheels</th>\n",
       "      <th>engine-location</th>\n",
       "      <th>wheel-base</th>\n",
       "      <th>...</th>\n",
       "      <th>engine-size</th>\n",
       "      <th>fuel-system</th>\n",
       "      <th>bore</th>\n",
       "      <th>stroke</th>\n",
       "      <th>compression-ratio</th>\n",
       "      <th>horsepower</th>\n",
       "      <th>peak-rpm</th>\n",
       "      <th>city-mpg</th>\n",
       "      <th>highway-mpg</th>\n",
       "      <th>price</th>\n",
       "    </tr>\n",
       "  </thead>\n",
       "  <tbody>\n",
       "    <tr>\n",
       "      <th>0</th>\n",
       "      <td>3</td>\n",
       "      <td>?</td>\n",
       "      <td>alfa-romero</td>\n",
       "      <td>gas</td>\n",
       "      <td>std</td>\n",
       "      <td>two</td>\n",
       "      <td>convertible</td>\n",
       "      <td>rwd</td>\n",
       "      <td>front</td>\n",
       "      <td>88.6</td>\n",
       "      <td>...</td>\n",
       "      <td>130</td>\n",
       "      <td>mpfi</td>\n",
       "      <td>3.47</td>\n",
       "      <td>2.68</td>\n",
       "      <td>9.0</td>\n",
       "      <td>111</td>\n",
       "      <td>5000</td>\n",
       "      <td>21</td>\n",
       "      <td>27</td>\n",
       "      <td>13495</td>\n",
       "    </tr>\n",
       "    <tr>\n",
       "      <th>1</th>\n",
       "      <td>3</td>\n",
       "      <td>?</td>\n",
       "      <td>alfa-romero</td>\n",
       "      <td>gas</td>\n",
       "      <td>std</td>\n",
       "      <td>two</td>\n",
       "      <td>convertible</td>\n",
       "      <td>rwd</td>\n",
       "      <td>front</td>\n",
       "      <td>88.6</td>\n",
       "      <td>...</td>\n",
       "      <td>130</td>\n",
       "      <td>mpfi</td>\n",
       "      <td>3.47</td>\n",
       "      <td>2.68</td>\n",
       "      <td>9.0</td>\n",
       "      <td>111</td>\n",
       "      <td>5000</td>\n",
       "      <td>21</td>\n",
       "      <td>27</td>\n",
       "      <td>16500</td>\n",
       "    </tr>\n",
       "    <tr>\n",
       "      <th>2</th>\n",
       "      <td>1</td>\n",
       "      <td>?</td>\n",
       "      <td>alfa-romero</td>\n",
       "      <td>gas</td>\n",
       "      <td>std</td>\n",
       "      <td>two</td>\n",
       "      <td>hatchback</td>\n",
       "      <td>rwd</td>\n",
       "      <td>front</td>\n",
       "      <td>94.5</td>\n",
       "      <td>...</td>\n",
       "      <td>152</td>\n",
       "      <td>mpfi</td>\n",
       "      <td>2.68</td>\n",
       "      <td>3.47</td>\n",
       "      <td>9.0</td>\n",
       "      <td>154</td>\n",
       "      <td>5000</td>\n",
       "      <td>19</td>\n",
       "      <td>26</td>\n",
       "      <td>16500</td>\n",
       "    </tr>\n",
       "    <tr>\n",
       "      <th>3</th>\n",
       "      <td>2</td>\n",
       "      <td>164</td>\n",
       "      <td>audi</td>\n",
       "      <td>gas</td>\n",
       "      <td>std</td>\n",
       "      <td>four</td>\n",
       "      <td>sedan</td>\n",
       "      <td>fwd</td>\n",
       "      <td>front</td>\n",
       "      <td>99.8</td>\n",
       "      <td>...</td>\n",
       "      <td>109</td>\n",
       "      <td>mpfi</td>\n",
       "      <td>3.19</td>\n",
       "      <td>3.40</td>\n",
       "      <td>10.0</td>\n",
       "      <td>102</td>\n",
       "      <td>5500</td>\n",
       "      <td>24</td>\n",
       "      <td>30</td>\n",
       "      <td>13950</td>\n",
       "    </tr>\n",
       "    <tr>\n",
       "      <th>4</th>\n",
       "      <td>2</td>\n",
       "      <td>164</td>\n",
       "      <td>audi</td>\n",
       "      <td>gas</td>\n",
       "      <td>std</td>\n",
       "      <td>four</td>\n",
       "      <td>sedan</td>\n",
       "      <td>4wd</td>\n",
       "      <td>front</td>\n",
       "      <td>99.4</td>\n",
       "      <td>...</td>\n",
       "      <td>136</td>\n",
       "      <td>mpfi</td>\n",
       "      <td>3.19</td>\n",
       "      <td>3.40</td>\n",
       "      <td>8.0</td>\n",
       "      <td>115</td>\n",
       "      <td>5500</td>\n",
       "      <td>18</td>\n",
       "      <td>22</td>\n",
       "      <td>17450</td>\n",
       "    </tr>\n",
       "  </tbody>\n",
       "</table>\n",
       "<p>5 rows × 26 columns</p>\n",
       "</div>"
      ],
      "text/plain": [
       "   symboling normalized-losses         make fuel-type aspiration num-of-doors  \\\n",
       "0          3                 ?  alfa-romero       gas        std          two   \n",
       "1          3                 ?  alfa-romero       gas        std          two   \n",
       "2          1                 ?  alfa-romero       gas        std          two   \n",
       "3          2               164         audi       gas        std         four   \n",
       "4          2               164         audi       gas        std         four   \n",
       "\n",
       "    body-style drive-wheels engine-location  wheel-base  ...  engine-size  \\\n",
       "0  convertible          rwd           front        88.6  ...          130   \n",
       "1  convertible          rwd           front        88.6  ...          130   \n",
       "2    hatchback          rwd           front        94.5  ...          152   \n",
       "3        sedan          fwd           front        99.8  ...          109   \n",
       "4        sedan          4wd           front        99.4  ...          136   \n",
       "\n",
       "   fuel-system  bore  stroke compression-ratio horsepower  peak-rpm city-mpg  \\\n",
       "0         mpfi  3.47    2.68               9.0        111      5000       21   \n",
       "1         mpfi  3.47    2.68               9.0        111      5000       21   \n",
       "2         mpfi  2.68    3.47               9.0        154      5000       19   \n",
       "3         mpfi  3.19    3.40              10.0        102      5500       24   \n",
       "4         mpfi  3.19    3.40               8.0        115      5500       18   \n",
       "\n",
       "  highway-mpg  price  \n",
       "0          27  13495  \n",
       "1          27  16500  \n",
       "2          26  16500  \n",
       "3          30  13950  \n",
       "4          22  17450  \n",
       "\n",
       "[5 rows x 26 columns]"
      ]
     },
     "execution_count": 8,
     "metadata": {},
     "output_type": "execute_result"
    }
   ],
   "source": [
    "# To see what the data set looks like, we'll use the head() method.\n",
    "df.head()"
   ]
  },
  {
   "cell_type": "markdown",
   "metadata": {
    "id": "7e8ce78a-2140-4874-bc46-bed7528ace13"
   },
   "source": [
    "Comme vous pouvez le constater, plusieurs points d'interrogation sont apparus dans le bloc de données ; ces valeurs manquantes peuvent entraver une analyse plus approfondie.\n",
    "<div>Alors, comment identifier toutes ces valeurs manquantes et les traiter ?</div>\n",
    "\n",
    "<b>Comment travailler avec des données manquantes ?</b>\n",
    "\n",
    "Étapes à suivre pour travailler avec des données manquantes :\n",
    "<ol>\n",
    "<li>Identifier les données manquantes</li>\n",
    "<li>Traiter les données manquantes</li>\n",
    "<li>Corriger le format des données</li>\n",
    "</ol>\n"
   ]
  },
  {
   "cell_type": "markdown",
   "metadata": {
    "id": "ad5d5e60-ed93-433b-85ca-f1a2088a9d0a"
   },
   "source": [
    "# Identifier et gérer les valeurs manquantes\n",
    "\n",
    "### Identifier les valeurs manquantes\n",
    "<h4>Convertir \"?\" en NaN</h4>\n",
    "Dans l'ensemble de données de la voiture, les données manquantes sont accompagnées du point d'interrogation \"?\".\n",
    "Nous remplaçons \"?\" par NaN (Not a Number), le marqueur de valeur manquante par défaut de Python pour des raisons de rapidité de calcul et de commodité. Utilisez la fonction :\n",
    "<pre>.replace(A, B, inplace = True) </pre>\n",
    "pour remplacer A par B.\n"
   ]
  },
  {
   "cell_type": "code",
   "execution_count": 9,
   "metadata": {
    "id": "f7567e8d-7478-4725-a640-f3ad7a424c9c"
   },
   "outputs": [
    {
     "data": {
      "text/html": [
       "<div>\n",
       "<style scoped>\n",
       "    .dataframe tbody tr th:only-of-type {\n",
       "        vertical-align: middle;\n",
       "    }\n",
       "\n",
       "    .dataframe tbody tr th {\n",
       "        vertical-align: top;\n",
       "    }\n",
       "\n",
       "    .dataframe thead th {\n",
       "        text-align: right;\n",
       "    }\n",
       "</style>\n",
       "<table border=\"1\" class=\"dataframe\">\n",
       "  <thead>\n",
       "    <tr style=\"text-align: right;\">\n",
       "      <th></th>\n",
       "      <th>symboling</th>\n",
       "      <th>normalized-losses</th>\n",
       "      <th>make</th>\n",
       "      <th>fuel-type</th>\n",
       "      <th>aspiration</th>\n",
       "      <th>num-of-doors</th>\n",
       "      <th>body-style</th>\n",
       "      <th>drive-wheels</th>\n",
       "      <th>engine-location</th>\n",
       "      <th>wheel-base</th>\n",
       "      <th>...</th>\n",
       "      <th>engine-size</th>\n",
       "      <th>fuel-system</th>\n",
       "      <th>bore</th>\n",
       "      <th>stroke</th>\n",
       "      <th>compression-ratio</th>\n",
       "      <th>horsepower</th>\n",
       "      <th>peak-rpm</th>\n",
       "      <th>city-mpg</th>\n",
       "      <th>highway-mpg</th>\n",
       "      <th>price</th>\n",
       "    </tr>\n",
       "  </thead>\n",
       "  <tbody>\n",
       "    <tr>\n",
       "      <th>0</th>\n",
       "      <td>3</td>\n",
       "      <td>NaN</td>\n",
       "      <td>alfa-romero</td>\n",
       "      <td>gas</td>\n",
       "      <td>std</td>\n",
       "      <td>two</td>\n",
       "      <td>convertible</td>\n",
       "      <td>rwd</td>\n",
       "      <td>front</td>\n",
       "      <td>88.6</td>\n",
       "      <td>...</td>\n",
       "      <td>130</td>\n",
       "      <td>mpfi</td>\n",
       "      <td>3.47</td>\n",
       "      <td>2.68</td>\n",
       "      <td>9.0</td>\n",
       "      <td>111</td>\n",
       "      <td>5000</td>\n",
       "      <td>21</td>\n",
       "      <td>27</td>\n",
       "      <td>13495</td>\n",
       "    </tr>\n",
       "    <tr>\n",
       "      <th>1</th>\n",
       "      <td>3</td>\n",
       "      <td>NaN</td>\n",
       "      <td>alfa-romero</td>\n",
       "      <td>gas</td>\n",
       "      <td>std</td>\n",
       "      <td>two</td>\n",
       "      <td>convertible</td>\n",
       "      <td>rwd</td>\n",
       "      <td>front</td>\n",
       "      <td>88.6</td>\n",
       "      <td>...</td>\n",
       "      <td>130</td>\n",
       "      <td>mpfi</td>\n",
       "      <td>3.47</td>\n",
       "      <td>2.68</td>\n",
       "      <td>9.0</td>\n",
       "      <td>111</td>\n",
       "      <td>5000</td>\n",
       "      <td>21</td>\n",
       "      <td>27</td>\n",
       "      <td>16500</td>\n",
       "    </tr>\n",
       "    <tr>\n",
       "      <th>2</th>\n",
       "      <td>1</td>\n",
       "      <td>NaN</td>\n",
       "      <td>alfa-romero</td>\n",
       "      <td>gas</td>\n",
       "      <td>std</td>\n",
       "      <td>two</td>\n",
       "      <td>hatchback</td>\n",
       "      <td>rwd</td>\n",
       "      <td>front</td>\n",
       "      <td>94.5</td>\n",
       "      <td>...</td>\n",
       "      <td>152</td>\n",
       "      <td>mpfi</td>\n",
       "      <td>2.68</td>\n",
       "      <td>3.47</td>\n",
       "      <td>9.0</td>\n",
       "      <td>154</td>\n",
       "      <td>5000</td>\n",
       "      <td>19</td>\n",
       "      <td>26</td>\n",
       "      <td>16500</td>\n",
       "    </tr>\n",
       "    <tr>\n",
       "      <th>3</th>\n",
       "      <td>2</td>\n",
       "      <td>164</td>\n",
       "      <td>audi</td>\n",
       "      <td>gas</td>\n",
       "      <td>std</td>\n",
       "      <td>four</td>\n",
       "      <td>sedan</td>\n",
       "      <td>fwd</td>\n",
       "      <td>front</td>\n",
       "      <td>99.8</td>\n",
       "      <td>...</td>\n",
       "      <td>109</td>\n",
       "      <td>mpfi</td>\n",
       "      <td>3.19</td>\n",
       "      <td>3.40</td>\n",
       "      <td>10.0</td>\n",
       "      <td>102</td>\n",
       "      <td>5500</td>\n",
       "      <td>24</td>\n",
       "      <td>30</td>\n",
       "      <td>13950</td>\n",
       "    </tr>\n",
       "    <tr>\n",
       "      <th>4</th>\n",
       "      <td>2</td>\n",
       "      <td>164</td>\n",
       "      <td>audi</td>\n",
       "      <td>gas</td>\n",
       "      <td>std</td>\n",
       "      <td>four</td>\n",
       "      <td>sedan</td>\n",
       "      <td>4wd</td>\n",
       "      <td>front</td>\n",
       "      <td>99.4</td>\n",
       "      <td>...</td>\n",
       "      <td>136</td>\n",
       "      <td>mpfi</td>\n",
       "      <td>3.19</td>\n",
       "      <td>3.40</td>\n",
       "      <td>8.0</td>\n",
       "      <td>115</td>\n",
       "      <td>5500</td>\n",
       "      <td>18</td>\n",
       "      <td>22</td>\n",
       "      <td>17450</td>\n",
       "    </tr>\n",
       "  </tbody>\n",
       "</table>\n",
       "<p>5 rows × 26 columns</p>\n",
       "</div>"
      ],
      "text/plain": [
       "   symboling normalized-losses         make fuel-type aspiration num-of-doors  \\\n",
       "0          3               NaN  alfa-romero       gas        std          two   \n",
       "1          3               NaN  alfa-romero       gas        std          two   \n",
       "2          1               NaN  alfa-romero       gas        std          two   \n",
       "3          2               164         audi       gas        std         four   \n",
       "4          2               164         audi       gas        std         four   \n",
       "\n",
       "    body-style drive-wheels engine-location  wheel-base  ...  engine-size  \\\n",
       "0  convertible          rwd           front        88.6  ...          130   \n",
       "1  convertible          rwd           front        88.6  ...          130   \n",
       "2    hatchback          rwd           front        94.5  ...          152   \n",
       "3        sedan          fwd           front        99.8  ...          109   \n",
       "4        sedan          4wd           front        99.4  ...          136   \n",
       "\n",
       "   fuel-system  bore  stroke compression-ratio horsepower  peak-rpm city-mpg  \\\n",
       "0         mpfi  3.47    2.68               9.0        111      5000       21   \n",
       "1         mpfi  3.47    2.68               9.0        111      5000       21   \n",
       "2         mpfi  2.68    3.47               9.0        154      5000       19   \n",
       "3         mpfi  3.19    3.40              10.0        102      5500       24   \n",
       "4         mpfi  3.19    3.40               8.0        115      5500       18   \n",
       "\n",
       "  highway-mpg  price  \n",
       "0          27  13495  \n",
       "1          27  16500  \n",
       "2          26  16500  \n",
       "3          30  13950  \n",
       "4          22  17450  \n",
       "\n",
       "[5 rows x 26 columns]"
      ]
     },
     "execution_count": 9,
     "metadata": {},
     "output_type": "execute_result"
    }
   ],
   "source": [
    "import numpy as np\n",
    "\n",
    "# replace \"?\" to NaN\n",
    "df.replace(\"?\", np.nan, inplace = True)\n",
    "df.head(5)"
   ]
  },
  {
   "cell_type": "markdown",
   "metadata": {
    "id": "0f612b58-3ad3-45bb-91a9-3edc2c8858b3"
   },
   "source": [
    "<h4>Évaluation des données manquantes</h4>\n",
    "\n",
    "Les valeurs manquantes sont converties par défaut. Utilisez les fonctions suivantes pour identifier ces valeurs manquantes. Vous pouvez utiliser deux méthodes pour détecter les données manquantes :\n",
    "<ol>\n",
    "<li><b>.isnull()</b></li>\n",
    "<li><b>.notnull()</b></li>\n",
    "</ol>\n",
    "La sortie est une valeur booléenne indiquant si la valeur transmise dans l'argument contient en fait des données manquantes.\n"
   ]
  },
  {
   "cell_type": "code",
   "execution_count": null,
   "metadata": {
    "id": "c6a9fedc-1f21-4c4f-917d-42732f2ac927"
   },
   "outputs": [],
   "source": [
    "missing_data = df.isnull()\n",
    "missing_data.head(5)"
   ]
  },
  {
   "cell_type": "markdown",
   "metadata": {
    "id": "664e71c4-4458-4e54-bbed-037615696419"
   },
   "source": [
    "« Vrai » signifie que la valeur est une valeur manquante tandis que « Faux » signifie que la valeur n'est pas une valeur manquante.\n"
   ]
  },
  {
   "cell_type": "markdown",
   "metadata": {
    "id": "d97ea1ff-2695-4d84-9dbe-aa079e65c3e4"
   },
   "source": [
    "<h4>Compter les valeurs manquantes dans chaque colonne</h4>\n",
    "<p>\n",
    "En utilisant une boucle for en Python, vous pouvez rapidement déterminer le nombre de valeurs manquantes dans chaque colonne. Comme mentionné ci-dessus, « True » représente une valeur manquante et « False » signifie que la valeur est présente dans l'ensemble de données. Dans le corps de la boucle for, la méthode « .value_counts() » compte le nombre de valeurs « True ».\n",
    "</p>\n"
   ]
  },
  {
   "cell_type": "code",
   "execution_count": null,
   "metadata": {
    "id": "0763aaeb-8d80-4883-9302-083d0b780024"
   },
   "outputs": [],
   "source": [
    "for column in missing_data.columns.values.tolist():\n",
    "    print(column)\n",
    "    print (missing_data[column].value_counts())\n",
    "    print(\"\")"
   ]
  },
  {
   "cell_type": "markdown",
   "metadata": {
    "id": "9e76cf56-98d6-4561-8ea3-cef08ba130c4"
   },
   "source": [
    "D'après le résumé ci-dessus, chaque colonne comporte 205 lignes de données et sept des colonnes contiennent des données manquantes :\n",
    "<ol>\n",
    "<li>\"normalized-losses\": 41 données manquantes</li>\n",
    "<li>\"num-of-doors\": 2 données manquantes</li>\n",
    "<li>\"bore\": 4 données manquantes</li>\n",
    "<li>\"stroke\" : 4 données manquantes</li>\n",
    "<li>\"horsepower\": 2 données manquantes</li>\n",
    "<li>\"peak-rpm\": 2 données manquantes</li>\n",
    "<li>\"price\": 4 données manquantes</li>\n",
    "</ol>"
   ]
  },
  {
   "cell_type": "markdown",
   "metadata": {
    "id": "0c26329a-6707-489e-b593-4e9da1f799c5"
   },
   "source": [
    "### Gérer les données manquantes\n",
    "<b>Comment gérer les données manquantes ?</b>\n",
    "\n",
    "<ol>\n",
    "<li>Supprimer les données<br>\n",
    "a. Supprimer toute la ligne<br>\n",
    "b. Supprimer toute la colonne\n",
    "</li>\n",
    "<li>Remplacer les données<br>\n",
    "a. Remplacez-les par la moyenne<br>\n",
    "b. Remplacez-les par la fréquence<br>\n",
    "c. Remplacez-les en fonction d'autres fonctions\n",
    "</li>\n",
    "</ol>\n"
   ]
  },
  {
   "cell_type": "markdown",
   "metadata": {
    "id": "7f3d6556-ad61-4eea-b4b9-7302d6283b18"
   },
   "source": [
    "Vous ne devez supprimer des colonnes entières que si la plupart des entrées de la colonne sont vides. Dans l'ensemble de données, aucune colonne n'est suffisamment vide pour être supprimée entièrement.\n",
    "Vous avez une certaine liberté dans le choix de la méthode de remplacement des données ; cependant, certaines méthodes peuvent sembler plus raisonnables que d'autres. Appliquez chaque méthode à différentes colonnes :\n",
    "\n",
    "<b>Remplacer par la moyenne :</b>\n",
    "<ul>\n",
    "<li>\"normalized-losses\" : 41 données manquantes, remplacez-les par la moyenne</li>\n",
    "<li>\"stroke\" : 4 données manquantes, remplacez-les par la moyenne</li>\n",
    "<li>\"bore\" : 4 données manquantes, remplacez-les par la moyenne</li>\n",
    "<li>\"horsepower\" : 2 données manquantes, remplacez-les par la moyenne</li>\n",
    "<li>\"peak-rpm\" : 2 données manquantes, remplacez-les par la moyenne</li>\n",
    "</ul>\n",
    "\n",
    "<b>Remplacer par la fréquence :</b>\n",
    "<ul>\n",
    "<li>\"num-of-doors\" : 2 données manquantes, remplacez-les par \"four\".\n",
    "<ul>\n",
    "<li>Raison : 84 % des berlines sont des berlines à quatre portes. Étant donné que les berlines à quatre portes sont les plus fréquentes, cette situation est la plus susceptible de se produire.</li>\n",
    "</ul>\n",
    "</li>\n",
    "</ul>\n",
    "\n",
    "<b>Supprimez toute la ligne :</b>\n",
    "<ul>\n",
    "<li>\"price\" : 4 données manquantes, supprimez simplement toute la ligne.\n",
    "<ul>\n",
    "<li>Raison : vous souhaitez prédire le prix. Vous ne pouvez utiliser aucune entrée de données sans données de prix pour la prédiction ; par conséquent, toute ligne sans données de prix ne vous est plus utile.</li>\n",
    "</ul>\n",
    "</li>\n",
    "</ul>\n"
   ]
  },
  {
   "cell_type": "markdown",
   "metadata": {
    "id": "6ca65b54-1183-4602-9a58-bf3fb4e0ca9c"
   },
   "source": [
    "<h4>Calculer la valeur moyenne pour la colonne « pertes normalisées » </h4>\n"
   ]
  },
  {
   "cell_type": "code",
   "execution_count": null,
   "metadata": {
    "id": "422a0c76-185f-4a9b-b372-1a1807efe191"
   },
   "outputs": [],
   "source": [
    "avg_norm_loss = df[\"normalized-losses\"].astype(\"float\").mean(axis=0)\n",
    "print(\"Average of normalized-losses:\", avg_norm_loss)"
   ]
  },
  {
   "cell_type": "markdown",
   "metadata": {
    "id": "58ce7da1-0e08-4f93-9f25-a1890946d9de"
   },
   "source": [
    "<h4>Remplacez « NaN » par la valeur moyenne dans la colonne « pertes normalisées »</h4>"
   ]
  },
  {
   "cell_type": "code",
   "execution_count": null,
   "metadata": {
    "id": "1f681242-008a-4201-80db-7e43c27aa8e4"
   },
   "outputs": [],
   "source": [
    "df[\"normalized-losses\"].replace(np.nan, avg_norm_loss, inplace=True)"
   ]
  },
  {
   "cell_type": "markdown",
   "metadata": {
    "id": "b54a9f2b-a123-4579-b4e9-aa279b79f56c"
   },
   "source": [
    "<h4>Calculer la valeur moyenne pour la colonne « bore »</h4>\n"
   ]
  },
  {
   "cell_type": "code",
   "execution_count": null,
   "metadata": {
    "id": "114b4fd7-d1c6-4503-b77a-eeddb21694f0"
   },
   "outputs": [],
   "source": [
    "avg_bore=df['bore'].astype('float').mean(axis=0)\n",
    "print(\"Average of bore:\", avg_bore)"
   ]
  },
  {
   "cell_type": "markdown",
   "metadata": {
    "id": "a7365721-52e7-4fe9-a096-2d03855f567f"
   },
   "source": [
    "<h4>Remplacez « NaN » par la valeur moyenne dans la colonne « bore »</h4>"
   ]
  },
  {
   "cell_type": "code",
   "execution_count": null,
   "metadata": {
    "id": "57908085-eba0-4f0b-acfa-35a5289b55ef"
   },
   "outputs": [],
   "source": [
    "df[\"bore\"].replace(np.nan, avg_bore, inplace=True)"
   ]
  },
  {
   "cell_type": "markdown",
   "metadata": {
    "id": "8fc92378-85d4-4436-a4a3-f2a514d929c3"
   },
   "source": [
    "<div class=\"alert alert-danger alertdanger\" style=\"margin-top: 20px\">\n",
    "<h1> Question n°1 : </h1>\n",
    "\n",
    "<b>Sur la base de l'exemple ci-dessus, remplacez NaN dans la colonne « AVC » par la valeur moyenne.</b>\n",
    "</div>\n"
   ]
  },
  {
   "cell_type": "code",
   "execution_count": null,
   "metadata": {
    "id": "800bd018-757a-4219-af09-dd51e94dd7c3"
   },
   "outputs": [],
   "source": [
    "# Write your code below and press Shift+Enter to execute\n"
   ]
  },
  {
   "cell_type": "markdown",
   "metadata": {
    "id": "8664a660-9ac3-4547-8aae-c0c53702bb0d"
   },
   "source": [
    "<h4>Calculez la valeur moyenne pour la colonne « chevaux-vapeur »</h4>\n"
   ]
  },
  {
   "cell_type": "code",
   "execution_count": null,
   "metadata": {
    "id": "a7a839ec-d5ea-4d97-bd88-bf78d9a109cd"
   },
   "outputs": [],
   "source": [
    "avg_horsepower = df['horsepower'].astype('float').mean(axis=0)\n",
    "print(\"Average horsepower:\", avg_horsepower)"
   ]
  },
  {
   "cell_type": "markdown",
   "metadata": {
    "id": "1fe3c0aa-b710-4596-adcd-85c09ff393b7"
   },
   "source": [
    "<h4>Remplacez « NaN » par la valeur moyenne dans la colonne « chevaux-vapeur »</h4>\n"
   ]
  },
  {
   "cell_type": "code",
   "execution_count": null,
   "metadata": {
    "id": "96dd09dd-1cb3-4fdc-aad0-15673f1b0435"
   },
   "outputs": [],
   "source": [
    "df['horsepower'].replace(np.nan, avg_horsepower, inplace=True)"
   ]
  },
  {
   "cell_type": "markdown",
   "metadata": {
    "id": "d5c8775c-3114-48a2-9b7c-e06ad5de100c"
   },
   "source": [
    "<h4>Calculer la valeur moyenne pour la colonne « peak-rpm »</h4>"
   ]
  },
  {
   "cell_type": "code",
   "execution_count": null,
   "metadata": {
    "id": "407a7796-2c46-49a8-955d-b4011c1425c9"
   },
   "outputs": [],
   "source": [
    "avg_peakrpm=df['peak-rpm'].astype('float').mean(axis=0)\n",
    "print(\"Average peak rpm:\", avg_peakrpm)"
   ]
  },
  {
   "cell_type": "markdown",
   "metadata": {
    "id": "186c7ded-93f5-4e7a-9537-a6a97f494410"
   },
   "source": [
    "<h4>Remplacez « NaN » par la valeur moyenne dans la colonne « peak-rpm »</h4>\n"
   ]
  },
  {
   "cell_type": "code",
   "execution_count": null,
   "metadata": {
    "id": "76ce9a53-2658-4047-b8b3-3a920bdc0ab2"
   },
   "outputs": [],
   "source": [
    "df['peak-rpm'].replace(np.nan, avg_peakrpm, inplace=True)"
   ]
  },
  {
   "cell_type": "markdown",
   "metadata": {
    "id": "c003aa4c-dc23-435f-b905-d71d75b01adc"
   },
   "source": [
    "Pour voir quelles valeurs sont présentes dans une colonne particulière, nous pouvons utiliser la méthode « .value_counts() » :"
   ]
  },
  {
   "cell_type": "code",
   "execution_count": null,
   "metadata": {
    "id": "88aa7350-cc4f-4581-bfe1-bef651e4ad74"
   },
   "outputs": [],
   "source": [
    "df['num-of-doors'].value_counts()"
   ]
  },
  {
   "cell_type": "markdown",
   "metadata": {
    "id": "8829c5a8-3eb6-4694-bfbf-c816586e61ba"
   },
   "source": [
    "Vous pouvez voir que quatre portes constituent le type le plus courant. Nous pouvons également utiliser la méthode \".idxmax()\" pour calculer automatiquement le type le plus courant :\n"
   ]
  },
  {
   "cell_type": "code",
   "execution_count": null,
   "metadata": {
    "id": "ca702398-bdd9-4d34-91e7-4a277a92759a"
   },
   "outputs": [],
   "source": [
    "df['num-of-doors'].value_counts().idxmax()"
   ]
  },
  {
   "cell_type": "markdown",
   "metadata": {
    "id": "d5c1a368-a0ed-43d0-b137-dd3188a3fa3c"
   },
   "source": [
    "La procédure de remplacement est très similaire à ce que vous avez vu précédemment :\n"
   ]
  },
  {
   "cell_type": "code",
   "execution_count": null,
   "metadata": {
    "id": "2d59fd28-bd36-4aa0-9ce2-30103a52d524"
   },
   "outputs": [],
   "source": [
    "#replace the missing 'num-of-doors' values by the most frequent\n",
    "df[\"num-of-doors\"].replace(np.nan, \"four\", inplace=True)"
   ]
  },
  {
   "cell_type": "markdown",
   "metadata": {
    "id": "10c9bf1e-d4a7-4529-acdb-abf72bb5e5ae"
   },
   "source": [
    "Enfin, supprimez toutes les lignes qui ne contiennent pas de données de prix :"
   ]
  },
  {
   "cell_type": "code",
   "execution_count": null,
   "metadata": {
    "id": "a2424344-74c9-43bb-bf05-9f4d2923240c"
   },
   "outputs": [],
   "source": [
    "# simply drop whole row with NaN in \"price\" column\n",
    "df.dropna(subset=[\"price\"], axis=0, inplace=True)\n",
    "\n",
    "# reset index, because we droped two rows\n",
    "df.reset_index(drop=True, inplace=True)"
   ]
  },
  {
   "cell_type": "code",
   "execution_count": null,
   "metadata": {
    "id": "8821e85a-d9e9-4b73-86d2-6b18cf7573db"
   },
   "outputs": [],
   "source": [
    "df.head()"
   ]
  },
  {
   "cell_type": "markdown",
   "metadata": {
    "id": "57abc338-2af3-491a-ba5b-5a6d949e8525"
   },
   "source": [
    "<b>Bien !</b> Vous disposez désormais d’un ensemble de données sans valeurs manquantes."
   ]
  },
  {
   "cell_type": "markdown",
   "metadata": {
    "id": "b995f2cf-e6da-473a-aa7c-9b88a8efcc12"
   },
   "source": [
    "### Format de données correct\n",
    "<b>Nous y sommes presque !</b>\n",
    "<p>La dernière étape du nettoyage des données consiste à vérifier et à s'assurer que toutes les données sont au bon format (int, float, text ou autre).</p>\n",
    "\n",
    "Dans Pandas, vous utilisez :\n",
    "<p><b>.dtype()</b> pour vérifier le type de données</p>\n",
    "<p><b>.astype()</b> pour modifier le type de données</p>\n"
   ]
  },
  {
   "cell_type": "markdown",
   "metadata": {
    "id": "947c265c-5181-4fbc-a354-481751b56f26"
   },
   "source": [
    "<h4>Let's list the data types for each column</h4>\n"
   ]
  },
  {
   "cell_type": "code",
   "execution_count": null,
   "metadata": {
    "id": "bc7a5821-defa-4387-a975-387caf3351bf"
   },
   "outputs": [],
   "source": [
    "df.dtypes"
   ]
  },
  {
   "cell_type": "markdown",
   "metadata": {
    "id": "bff93b3a-9c55-4a16-bb67-8edcab0505ab"
   },
   "source": [
    "<p>Comme vous pouvez le voir ci-dessus, certaines colonnes ne sont pas du type de données correct. Les variables numériques doivent être de type « float » ou « int », et les variables avec des chaînes telles que les catégories doivent être de type « object ». Par exemple, les valeurs numériques « bore » et « stroke » décrivent les moteurs, vous devez donc vous attendre à ce qu'elles soient de type « float » ou « int » ; cependant, elles sont affichées comme étant de type « object ». Vous devez convertir les types de données dans un format approprié pour chaque colonne à l'aide de la méthode « astype() ».</p>\n"
   ]
  },
  {
   "cell_type": "markdown",
   "metadata": {
    "id": "88df2b13-6f40-444a-8c80-9b33c0a98613"
   },
   "source": [
    "<h4>Convertir les types de données au format approprié</h4>"
   ]
  },
  {
   "cell_type": "code",
   "execution_count": null,
   "metadata": {
    "id": "471d9c60-a11f-47d2-8f4d-a0844c37dc09"
   },
   "outputs": [],
   "source": [
    "df[[\"bore\", \"stroke\"]] = df[[\"bore\", \"stroke\"]].astype(\"float\")\n",
    "df[[\"normalized-losses\"]] = df[[\"normalized-losses\"]].astype(\"int\")\n",
    "df[[\"price\"]] = df[[\"price\"]].astype(\"float\")\n",
    "df[[\"peak-rpm\"]] = df[[\"peak-rpm\"]].astype(\"float\")"
   ]
  },
  {
   "cell_type": "markdown",
   "metadata": {
    "id": "aee1be56-9ced-44bb-9140-51e03562a9a9"
   },
   "source": [
    "<h4>Listons les colonnes après la conversion</h4>\n"
   ]
  },
  {
   "cell_type": "code",
   "execution_count": null,
   "metadata": {
    "id": "c527cac0-2311-4dff-b738-4b8cfd26876e"
   },
   "outputs": [],
   "source": [
    "df.dtypes"
   ]
  },
  {
   "cell_type": "markdown",
   "metadata": {
    "id": "08774d88-0bf3-414f-b7a2-04dde94ef504"
   },
   "source": [
    "<b>Merveilleux !</b>\n",
    "\n",
    "Vous avez enfin obtenu l'ensemble de données nettoyées sans valeurs manquantes et avec toutes les données dans leur format approprié.\n"
   ]
  },
  {
   "cell_type": "markdown",
   "metadata": {
    "id": "10d1188e-ecb5-4901-9a4d-e483f98c56d0"
   },
   "source": [
    "## Normalisation des données\n",
    "<p>\n",
    "Vous collectez généralement des données auprès de différentes agences dans différents formats.\n",
    "(La normalisation des données est également un terme désignant un type particulier de normalisation des données dans lequel vous soustrayez la moyenne et divisez par l'écart type.)\n",
    "</p>\n",
    "\n",
    "<b>Qu'est-ce que la normalisation ?</b>\n",
    "<p>La normalisation est le processus de transformation des données dans un format commun, permettant au chercheur de faire une comparaison significative.\n",
    "</p>\n",
    "\n",
    "<b>Exemple</b>\n",
    "<p>Transformer les mpg en L/100 km  :</p>\n",
    "<p>Dans votre ensemble de données, les colonnes de consommation de carburant « ville-mpg » et « autoroute-mpg » sont représentées par l'unité mpg (miles par gallon). Supposons que vous développiez une application dans un pays qui accepte la consommation de carburant avec la norme L/100 km.</p>\n",
    "<p>Vous devrez appliquer une <b>transformation des données</b> pour transformer les mpg en L/100 km.</p>\n"
   ]
  },
  {
   "cell_type": "markdown",
   "metadata": {
    "id": "789902ae-5d7f-4611-ab81-2db6737024db"
   },
   "source": [
    "<p>Utilisez cette formule pour la conversion d'unité :<p>\n",
    "L/100 km = 235 / mpg\n",
    "<p>Vous pouvez effectuer de nombreuses opérations mathématiques directement à l'aide de Pandas.</p>\n"
   ]
  },
  {
   "cell_type": "code",
   "execution_count": null,
   "metadata": {
    "id": "f1786d58-e6ec-4261-8f28-3218002375a4"
   },
   "outputs": [],
   "source": [
    "df.head()"
   ]
  },
  {
   "cell_type": "code",
   "execution_count": null,
   "metadata": {
    "id": "9069212b-0aa1-4cff-933e-e614b4387f84"
   },
   "outputs": [],
   "source": [
    "# Convert mpg to L/100km by mathematical operation (235 divided by mpg)\n",
    "df['city-L/100km'] = 235/df[\"city-mpg\"]\n",
    "\n",
    "# check your transformed data\n",
    "df.head()"
   ]
  },
  {
   "cell_type": "markdown",
   "metadata": {
    "id": "266fc470-b9d3-4a58-b2e9-724a6a4a2a09"
   },
   "source": [
    "<div class=\"alert alert-danger alertdanger\" style=\"margin-top: 20px\">\n",
    "<h1> Question n°2 : </h1>\n",
    "\n",
    "<b>Selon l'exemple ci-dessus, transformez mpg en L/100 km dans la colonne « highway-mpg » et changez le nom de la colonne en « highway-L/100 km ».</b>\n",
    "</div>\n"
   ]
  },
  {
   "cell_type": "code",
   "execution_count": null,
   "metadata": {
    "id": "7649a567-9095-4ade-a63c-9606a0b27ff0"
   },
   "outputs": [],
   "source": [
    "# Write your code below and press Shift+Enter to execute\n"
   ]
  },
  {
   "cell_type": "markdown",
   "metadata": {
    "id": "767c20dc-4aa3-4e17-8186-445fe74c2a3b"
   },
   "source": [
    "## Normalisation des données\n",
    "\n",
    "<b>Pourquoi la normalisation ?</b>\n",
    "<p>La normalisation est le processus de transformation des valeurs de plusieurs variables en une plage similaire. Les normalisations typiques incluent\n",
    "<ol>\n",
    "<li>mise à l'échelle de la variable de sorte que la moyenne de la variable soit égale à 0</li>\n",
    "<li>mise à l'échelle de la variable de sorte que la variance soit égale à 1</li>\n",
    "<li>mise à l'échelle de la variable de sorte que les valeurs de la variable soient comprises entre 0 et 1</li>\n",
    "</ol>\n",
    "</p>\n",
    "\n",
    "<b>Exemple</b>\n",
    "<p>Pour illustrer la normalisation, disons que vous souhaitez mettre à l'échelle les colonnes « longueur », « largeur » et « hauteur ».</p>\n",
    "<p><b>Objectif :</b> normaliser ces variables de sorte que leurs valeurs soient comprises entre 0 et 1</p>\n",
    "<p><b>Approche :</b> remplacer la valeur d'origine par (valeur d'origine)/(valeur maximale)</p>"
   ]
  },
  {
   "cell_type": "code",
   "execution_count": null,
   "metadata": {
    "id": "7269e4a0-c4e4-4a3a-b845-76102181cdea"
   },
   "outputs": [],
   "source": [
    "# replace (original value) by (original value)/(maximum value)\n",
    "df['length'] = df['length']/df['length'].max()\n",
    "df['width'] = df['width']/df['width'].max()"
   ]
  },
  {
   "cell_type": "markdown",
   "metadata": {
    "id": "6c7a02ff-7d5b-464c-b1b2-3e83936e54ce"
   },
   "source": [
    "<div class=\"alert alert-danger alertdanger\" style=\"margin-top: 20px\">\n",
    "<h1>Question n°3 : </h1>\n",
    "\n",
    "<b>Selon l'exemple ci-dessus, normalisez la colonne « hauteur ».</b>\n",
    "</div>\n"
   ]
  },
  {
   "cell_type": "code",
   "execution_count": null,
   "metadata": {
    "id": "84633dc3-0866-4a14-9f5e-23fc248b9f0f"
   },
   "outputs": [],
   "source": [
    "# Write your code below and press Shift+Enter to execute\n"
   ]
  },
  {
   "cell_type": "markdown",
   "metadata": {
    "id": "867a205a-9486-4e12-a230-842f38f7c153"
   },
   "source": [
    "Ici, vous avez normalisé la « longueur », la « largeur » et la « hauteur » pour qu'elles se situent dans la plage [0,1].\n"
   ]
  },
  {
   "cell_type": "markdown",
   "metadata": {
    "id": "d6da22bb-f1e0-4528-8f50-a2dc2ce37dc9"
   },
   "source": [
    "## Binning\n",
    "<b>Pourquoi le binning ?</b>\n",
    "<p>\n",
    "Le binning est un processus de transformation de variables numériques continues en « bins » catégoriques discrets pour une analyse groupée.\n",
    "</p>\n",
    "\n",
    "<b>Exemple : </b>\n",
    "<p>Dans votre ensemble de données, « chevaux-vapeur » est une variable à valeur réelle allant de 48 à 288 et qui possède 59 valeurs uniques. Que se passe-t-il si vous ne vous souciez que de la différence de prix entre les voitures à puissance élevée, à puissance moyenne et à faible puissance (3 types) ? Vous pouvez les réorganiser en trois « bins » pour simplifier l'analyse.</p>\n",
    "\n",
    "<p>Utilisez la méthode Pandas « cut » pour segmenter la colonne « chevaux-vapeur » en 3 bins.</p>\n"
   ]
  },
  {
   "cell_type": "markdown",
   "metadata": {
    "id": "efa59332-1d98-468d-bf56-b7376e39f768"
   },
   "source": [
    "<h3>Example of Binning Data In Pandas</h3>\n"
   ]
  },
  {
   "cell_type": "markdown",
   "metadata": {
    "id": "d9fdda27-7e12-4188-b034-b61d082432f0"
   },
   "source": [
    " Convert data to correct format:\n"
   ]
  },
  {
   "cell_type": "code",
   "execution_count": null,
   "metadata": {
    "id": "93d1820d-7229-4383-9ea6-2eaf11aabad9"
   },
   "outputs": [],
   "source": [
    "df[\"horsepower\"]=df[\"horsepower\"].astype(int, copy=True)"
   ]
  },
  {
   "cell_type": "markdown",
   "metadata": {
    "id": "323ee938-03ed-4e04-83d8-d6a62cd4b449"
   },
   "source": [
    "Plot the histogram of horsepower to see the distribution of horsepower.\n"
   ]
  },
  {
   "cell_type": "code",
   "execution_count": null,
   "metadata": {
    "id": "a860eaf3-2adb-4f64-b9ab-9eb817641ea2"
   },
   "outputs": [],
   "source": [
    "%matplotlib inline\n",
    "import matplotlib as plt\n",
    "from matplotlib import pyplot\n",
    "plt.pyplot.hist(df[\"horsepower\"])\n",
    "\n",
    "# set x/y labels and plot title\n",
    "plt.pyplot.xlabel(\"horsepower\")\n",
    "plt.pyplot.ylabel(\"count\")\n",
    "plt.pyplot.title(\"horsepower bins\")"
   ]
  },
  {
   "cell_type": "markdown",
   "metadata": {
    "id": "5f5ceab1-5489-4693-ad31-6a59396dfcac"
   },
   "source": [
    "<p>Trouvez 3 bacs de taille égale en utilisant la fonction <code>linspace(start_value, end_value, numbers_generated</code> de Numpy.</p>\n",
    "<p>Puisque vous souhaitez inclure la valeur minimale de la puissance, définissez start_value = min(df[\"horsepower\"]).</p>\n",
    "<p>Puisque vous souhaitez inclure la valeur maximale de la puissance, définissez end_value = max(df[\"horsepower\"]).</p>\n",
    "<p>Puisque vous construisez 3 bacs de longueur égale, vous avez besoin de 4 diviseurs, donc numbers_generated = 4.</p>\n"
   ]
  },
  {
   "cell_type": "markdown",
   "metadata": {
    "id": "927e256a-574f-4baa-afcc-6b8317c54d66"
   },
   "source": [
    "Créez un tableau de bacs avec une valeur minimale et une valeur maximale en utilisant la bande passante calculée ci-dessus. Les valeurs détermineront quand un bac se termine et quand un autre commence.\n"
   ]
  },
  {
   "cell_type": "code",
   "execution_count": null,
   "metadata": {
    "id": "de1faae1-8829-450d-842b-5919346dd6f9"
   },
   "outputs": [],
   "source": [
    "bins = np.linspace(min(df[\"horsepower\"]), max(df[\"horsepower\"]), 4)\n",
    "bins"
   ]
  },
  {
   "cell_type": "markdown",
   "metadata": {
    "id": "6e04f94e-b198-4932-bb8c-5cf97d167a94"
   },
   "source": [
    "Définir les noms des groupes :"
   ]
  },
  {
   "cell_type": "code",
   "execution_count": null,
   "metadata": {
    "id": "1f16257e-6378-4a1c-8fbe-e03d295107bb"
   },
   "outputs": [],
   "source": [
    "group_names = ['Low', 'Medium', 'High']"
   ]
  },
  {
   "cell_type": "markdown",
   "metadata": {
    "id": "0c7aeaab-a57c-4325-affc-d394fbaf7d57"
   },
   "source": [
    "Appliquez la fonction « cut » pour déterminer à quoi appartient chaque valeur de `df['horsepower']`.\n"
   ]
  },
  {
   "cell_type": "code",
   "execution_count": null,
   "metadata": {
    "id": "7cb7d48a-3009-4786-8edd-c337e9ea2e09"
   },
   "outputs": [],
   "source": [
    "df['horsepower-binned'] = pd.cut(df['horsepower'], bins, labels=group_names, include_lowest=True )\n",
    "df[['horsepower','horsepower-binned']].head(20)"
   ]
  },
  {
   "cell_type": "markdown",
   "metadata": {
    "id": "392fab50-f1b1-4928-b531-a1743d73e167"
   },
   "source": [
    "Voir le nombre de véhicules dans chaque bac :"
   ]
  },
  {
   "cell_type": "code",
   "execution_count": null,
   "metadata": {
    "id": "d55405c5-9c55-448d-bfa1-1e6ca50eae53"
   },
   "outputs": [],
   "source": [
    "df[\"horsepower-binned\"].value_counts()"
   ]
  },
  {
   "cell_type": "markdown",
   "metadata": {
    "id": "0d0a28a0-0742-46e5-97db-a5501bc12ca5"
   },
   "source": [
    "Tracez la distribution de chaque compartiment :"
   ]
  },
  {
   "cell_type": "code",
   "execution_count": null,
   "metadata": {
    "id": "21c14c48-b0bb-4119-a3b5-50bce988b748"
   },
   "outputs": [],
   "source": [
    "%matplotlib inline\n",
    "import matplotlib as plt\n",
    "from matplotlib import pyplot\n",
    "pyplot.bar(group_names, df[\"horsepower-binned\"].value_counts())\n",
    "\n",
    "# set x/y labels and plot title\n",
    "plt.pyplot.xlabel(\"horsepower\")\n",
    "plt.pyplot.ylabel(\"count\")\n",
    "plt.pyplot.title(\"horsepower bins\")"
   ]
  },
  {
   "cell_type": "markdown",
   "metadata": {
    "id": "23ce9ebe-178a-4990-b3b8-5380d4e53a92"
   },
   "source": [
    "<p>\n",
    "Regardez attentivement le bloc de données ci-dessus. Vous constaterez que la dernière colonne fournit les compartiments pour la « puissance » en fonction de 3 catégories (« Faible », « Moyen » et « Élevé »).\n",
    "</p>\n",
    "<p>\n",
    "Vous avez réussi à réduire les intervalles de 59 à 3 !\n",
    "</p>"
   ]
  },
  {
   "cell_type": "markdown",
   "metadata": {
    "id": "4ab75302-df0c-47aa-9f06-e3a232337555"
   },
   "source": [
    "<h3>Visualisation des \"bins\"</h3>\n",
    "Normalement, vous utilisez un histogramme pour visualiser la distribution des bacs que nous avons créés ci-dessus.\n"
   ]
  },
  {
   "cell_type": "code",
   "execution_count": null,
   "metadata": {
    "id": "8da9fead-7fe3-446b-adc0-d7d45d9c95e2"
   },
   "outputs": [],
   "source": [
    "%matplotlib inline\n",
    "import matplotlib as plt\n",
    "from matplotlib import pyplot\n",
    "\n",
    "\n",
    "# draw historgram of attribute \"horsepower\" with bins = 3\n",
    "plt.pyplot.hist(df[\"horsepower\"], bins = 3)\n",
    "\n",
    "# set x/y labels and plot title\n",
    "plt.pyplot.xlabel(\"horsepower\")\n",
    "plt.pyplot.ylabel(\"count\")\n",
    "plt.pyplot.title(\"horsepower bins\")"
   ]
  },
  {
   "cell_type": "markdown",
   "metadata": {
    "id": "bdd323f3-4641-42cd-a744-55a04b839f0a"
   },
   "source": [
    "Le graphique ci-dessus montre le résultat du binning pour l'attribut « chevaux-vapeur »."
   ]
  },
  {
   "cell_type": "markdown",
   "metadata": {
    "id": "eaa7e666-b843-425d-9912-e32af1fdc6de"
   },
   "source": [
    "## Variable indicatrice\n",
    "<b>Qu'est-ce qu'une variable indicatrice ?</b>\n",
    "<p>\n",
    "Une variable indicatrice (ou variable fictive) est une variable numérique utilisée pour étiqueter des catégories. On les appelle « variables fictives » car les nombres eux-mêmes n'ont pas de signification intrinsèque.\n",
    "</p>\n",
    "\n",
    "<b>Pourquoi utiliser des variables indicatrices ?</b>\n",
    "<p>\n",
    "Vous utilisez des variables indicatrices pour pouvoir utiliser des variables catégorielles pour l'analyse de régression dans les modules ultérieurs.\n",
    "</p>\n",
    "<b>Exemple</b>\n",
    "<p>\n",
    "La colonne « type de carburant » a deux valeurs uniques : « essence » ou « diesel ». La régression ne comprend pas les mots, seulement les nombres. Pour utiliser cet attribut dans l'analyse de régression, vous pouvez convertir « type de carburant » en variables indicatrices.\n",
    "</p>\n",
    "\n",
    "<p>\n",
    "Utilisez la méthode Panda « get_dummies » pour attribuer des valeurs numériques à différentes catégories de type de carburant.\n",
    "</p>\n"
   ]
  },
  {
   "cell_type": "code",
   "execution_count": null,
   "metadata": {
    "id": "fcb94640-c6fb-4188-988d-25633a89c0d2"
   },
   "outputs": [],
   "source": [
    "df.columns"
   ]
  },
  {
   "cell_type": "markdown",
   "metadata": {
    "id": "261f2e17-15f8-4c16-aa90-1405628c69ea"
   },
   "source": [
    "Obtenez les variables indicatrices et attribuez-les au bloc de données « dummy_variable_1 » :"
   ]
  },
  {
   "cell_type": "code",
   "execution_count": null,
   "metadata": {
    "id": "888d5973-9f0f-4c43-9842-d5b16b3419eb"
   },
   "outputs": [],
   "source": [
    "dummy_variable_1 = pd.get_dummies(df[\"fuel-type\"])\n",
    "dummy_variable_1.head()"
   ]
  },
  {
   "cell_type": "markdown",
   "metadata": {
    "id": "f1d8fa87-f3da-464c-8ea4-5ef7d0886f88"
   },
   "source": [
    "Modifiez les noms des colonnes pour plus de clarté :"
   ]
  },
  {
   "cell_type": "code",
   "execution_count": null,
   "metadata": {
    "id": "ea645e74-8934-4436-a58b-a7ed5cd95628"
   },
   "outputs": [],
   "source": [
    "dummy_variable_1.rename(columns={'gas':'fuel-type-gas', 'diesel':'fuel-type-diesel'}, inplace=True)\n",
    "dummy_variable_1.head()"
   ]
  },
  {
   "cell_type": "markdown",
   "metadata": {
    "id": "54ef9f56-12bb-4310-ab37-dc377517ae80"
   },
   "source": [
    "Dans le cadre de données, la colonne « type de carburant » contient désormais des valeurs pour « gaz » et « diesel » sous forme de 0 et 1."
   ]
  },
  {
   "cell_type": "code",
   "execution_count": null,
   "metadata": {
    "id": "ec9766c2-9ffb-4b35-9500-b05c4090833b"
   },
   "outputs": [],
   "source": [
    "# merge data frame \"df\" and \"dummy_variable_1\"\n",
    "df = pd.concat([df, dummy_variable_1], axis=1)\n",
    "\n",
    "# drop original column \"fuel-type\" from \"df\"\n",
    "df.drop(\"fuel-type\", axis = 1, inplace=True)"
   ]
  },
  {
   "cell_type": "code",
   "execution_count": null,
   "metadata": {
    "id": "40d5f72b-db48-48f7-9b9c-9eee994ef50c"
   },
   "outputs": [],
   "source": [
    "df.head()"
   ]
  },
  {
   "cell_type": "markdown",
   "metadata": {
    "id": "e0e18f74-8aa6-4496-a2f9-549059c052a8"
   },
   "source": [
    "Les deux dernières colonnes sont désormais la représentation de la variable indicatrice du type de carburant. Elles sont toutes à 0 et à 1 maintenant.\n"
   ]
  },
  {
   "cell_type": "markdown",
   "metadata": {
    "id": "f03f4e32-cad3-40f1-9037-f2e14517bd78"
   },
   "source": [
    "<div class=\"alert alert-danger alertdanger\" style=\"margin-top: 20px\">\n",
    "<h1>Question n°4 : </h1>\n",
    "\n",
    "<b>Comme précédemment, créez une variable indicatrice pour la colonne « aspiration »</b>\n",
    "</div>"
   ]
  },
  {
   "cell_type": "code",
   "execution_count": null,
   "metadata": {
    "id": "0dc1882b-f175-41e4-9585-78583f4f1898"
   },
   "outputs": [],
   "source": [
    "# Write your code below and press Shift+Enter to execute\n"
   ]
  },
  {
   "cell_type": "markdown",
   "metadata": {
    "id": "ed672502-edce-4240-bb72-5c58c9962f91"
   },
   "source": [
    "<div class=\"alert alert-danger alertdanger\" style=\"margin-top: 20px\">\n",
    "<h1> Question n°5 : </h1>\n",
    "\n",
    "<b>Fusionnez le nouveau dataframe avec le dataframe d'origine, puis supprimez la colonne « aspiration ».</b>\n",
    "</div>"
   ]
  },
  {
   "cell_type": "code",
   "execution_count": null,
   "metadata": {
    "id": "66e9e8a7-a4c4-42c2-aa4f-feab0c0150b3"
   },
   "outputs": [],
   "source": [
    "# Write your code below and press Shift+Enter to execute\n"
   ]
  },
  {
   "cell_type": "markdown",
   "metadata": {
    "id": "02959181-857c-4232-81e7-27e6e867af95"
   },
   "source": [
    "sauvegardez le nouveau csv:\n"
   ]
  },
  {
   "cell_type": "code",
   "execution_count": null,
   "metadata": {
    "id": "9c0ce961-7e36-43e2-88e4-9309897f0e79"
   },
   "outputs": [],
   "source": [
    "df.to_csv('clean_df.csv')"
   ]
  }
 ],
 "metadata": {
  "colab": {
   "provenance": []
  },
  "kernelspec": {
   "display_name": "Python 3",
   "language": "python",
   "name": "python3"
  },
  "language_info": {
   "codemirror_mode": {
    "name": "ipython",
    "version": 3
   },
   "file_extension": ".py",
   "mimetype": "text/x-python",
   "name": "python",
   "nbconvert_exporter": "python",
   "pygments_lexer": "ipython3",
   "version": "3.12.7"
  },
  "prev_pub_hash": "4228c311a2a9005d3782bcb7a6eb782bc895e9c9259bb32bd1796f8341b49627"
 },
 "nbformat": 4,
 "nbformat_minor": 4
}
